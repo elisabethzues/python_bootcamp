{
 "cells": [
  {
   "cell_type": "markdown",
   "metadata": {},
   "source": [
    "## Deep and shallow copies"
   ]
  },
  {
   "cell_type": "markdown",
   "metadata": {},
   "source": [
    "If you have experience with other programming languages you might know about this. Most programming courses/websites etc. mention this fairly late in the course but it is one of the things that are **really, really, really** important to understand. And it is actually pretty simple so let's talk about it and look at a few examples."
   ]
  },
  {
   "cell_type": "code",
   "execution_count": null,
   "metadata": {
    "collapsed": false
   },
   "outputs": [],
   "source": [
    "string_1 = \"I am a string\"\n",
    "string_2 = \"I am a string\"\n",
    "print(string_1 == string_2)\n",
    "print(string_1 is string_2)\n",
    "string_2 = string_1\n",
    "print(string_1 is string_2)\n",
    "string_2 = \"2\"\n",
    "print(string_1)\n",
    "print(string_2)\n",
    "print(string_1 == string_2)\n",
    "print(string_1 is string_2)"
   ]
  },
  {
   "cell_type": "markdown",
   "metadata": {},
   "source": [
    "**And:**"
   ]
  },
  {
   "cell_type": "code",
   "execution_count": null,
   "metadata": {
    "collapsed": false
   },
   "outputs": [],
   "source": [
    "list_1 = ['list', 1]\n",
    "list_2 = ['list', 1]\n",
    "print(list_1 == list_2)\n",
    "print(list_1 is list_2)\n",
    "list_2 = list_1\n",
    "print(list_1 is list_2)\n",
    "list_2[1] = 2\n",
    "print(list_1)\n",
    "print(list_2)\n",
    "print(list_1 == list_2)\n",
    "print(list_1 is list_2)\n",
    "#spot the difference between the two examples"
   ]
  },
  {
   "cell_type": "markdown",
   "metadata": {},
   "source": [
    "Python has **immutable** and **mutable** types. \n",
    "A number (int, float), a bool, string or tuple are all immutable, meaning we can't modify them."
   ]
  },
  {
   "cell_type": "code",
   "execution_count": null,
   "metadata": {
    "collapsed": false
   },
   "outputs": [],
   "source": [
    "some_letters = \"I am immutable\"\n",
    "some_letters = \"Completely new string\" #we can assign the variable some_letters a completely NEW string\n",
    "print(some_letters[4])\n",
    "some_letters[4] = 'L' #but we can't change anything in the string assigned to 'some_letters'\n",
    "#try the same with a tuple"
   ]
  },
  {
   "cell_type": "markdown",
   "metadata": {},
   "source": [
    "List, dictionaries and sets are mutable, meaning we can modify the object that is stored in the variable."
   ]
  },
  {
   "cell_type": "code",
   "execution_count": null,
   "metadata": {
    "collapsed": false
   },
   "outputs": [],
   "source": [
    "list_nr_1 = [1,2,4]\n",
    "print(list_nr_1)\n",
    "list_nr_1[2] = 3\n",
    "print(list_nr_1)"
   ]
  },
  {
   "cell_type": "markdown",
   "metadata": {},
   "source": [
    "What is dangerous about this is that when we make a copy of a mutable object, it isn't really a copy but just another way to reach the same object. So any modifications made through either way of reaching the object will modify the same object."
   ]
  },
  {
   "cell_type": "code",
   "execution_count": null,
   "metadata": {
    "collapsed": false
   },
   "outputs": [],
   "source": [
    "#remember the list example above?\n",
    "list_1 = ['list', 1]  #at the moment, the lists look the same\n",
    "list_2 = ['list', 1]  #but they are two different objects\n",
    "#we can modify them independently\n",
    "print(list_1, list_2)\n",
    "list_1[0] = 'the list'\n",
    "list_2[1] = 2\n",
    "print(list_1, list_2)\n",
    "#now we point them at the same object (or rather we point the name list_1 to the object that list_2 refers to)\n",
    "list_2 = list_1\n",
    "print(list_1, list_2)\n",
    "#now any modification using either name for the object (list_1 or list_2) will modify the object since they refer to the same thing\n",
    "list_1[0] = 'aaaaah'\n",
    "print(list_1, list_2)\n",
    "list_2[1] = 14\n",
    "print(list_1, list_2)\n",
    "print(list_1 is list_2) #checks whether both names refer to the same object"
   ]
  },
  {
   "cell_type": "markdown",
   "metadata": {},
   "source": [
    "This can lead to cases where you think you have made a copy but you haven't. You have just created two ways of accessing the same object and modification through either way will change it."
   ]
  },
  {
   "cell_type": "code",
   "execution_count": null,
   "metadata": {
    "collapsed": false
   },
   "outputs": [],
   "source": [
    "#try to create a similar situation to the above using dictionaries (i.e. where two variables point to the same dictionary)\n",
    "#then modify the dictionary through both and show the result"
   ]
  },
  {
   "cell_type": "markdown",
   "metadata": {},
   "source": [
    "Therefore, in cases where we want to have a copy that is a real copy (and not just another way to access the old object) we need to use deep copy."
   ]
  },
  {
   "cell_type": "code",
   "execution_count": null,
   "metadata": {
    "collapsed": false
   },
   "outputs": [],
   "source": [
    "from copy import deepcopy\n",
    "list_1 = ['list', 1]\n",
    "list_2 = ['list', 1]\n",
    "#we can modify them independently\n",
    "print(list_1, list_2)\n",
    "list_1[0] = 'the list'\n",
    "list_2[1] = 2\n",
    "print(list_1, list_2)\n",
    "list_2 = deepcopy(list_1)\n",
    "print(list_1, list_2)\n",
    "list_1[0] = 'aaaaah'\n",
    "print(list_1, list_2)\n",
    "list_2[1] = 14\n",
    "print(list_1, list_2)\n",
    "print(list_1 is list_2)"
   ]
  },
  {
   "cell_type": "markdown",
   "metadata": {},
   "source": [
    "## Working with files"
   ]
  },
  {
   "cell_type": "markdown",
   "metadata": {},
   "source": [
    "#### Reading"
   ]
  },
  {
   "cell_type": "code",
   "execution_count": null,
   "metadata": {
    "collapsed": false
   },
   "outputs": [],
   "source": [
    "with open(\"testfile.csv\", 'r') as test_file: #'r' tells it that you want to read the file\n",
    "    for line in test_file:                   #goes through the file line by line\n",
    "        number, number_word = line.strip().split(\",\")\n",
    "        print(number, number_word)\n",
    "#using this construct, the file is closed automatically when the whole content has been read"
   ]
  },
  {
   "cell_type": "markdown",
   "metadata": {},
   "source": [
    "If the file has a header, then we need to deal with that."
   ]
  },
  {
   "cell_type": "code",
   "execution_count": null,
   "metadata": {
    "collapsed": false
   },
   "outputs": [],
   "source": [
    "#ignore header row\n",
    "with open(\"testfile_with_header.csv\", 'r') as test_file:\n",
    "    next(test_file) #ignore the header line\n",
    "    for line in test_file:\n",
    "        number, number_word = line.strip().split(\",\")\n",
    "        print(number, number_word)"
   ]
  },
  {
   "cell_type": "code",
   "execution_count": null,
   "metadata": {
    "collapsed": false
   },
   "outputs": [],
   "source": [
    "#save header row for later\n",
    "with open(\"testfile_with_header.csv\", 'r') as test_file:\n",
    "    header = test_file.readline()\n",
    "    for line in test_file:\n",
    "        number, number_word = line.strip().split(\",\")\n",
    "        print(number, number_word)\n",
    "print(\"Header was:\", header)"
   ]
  },
  {
   "cell_type": "markdown",
   "metadata": {},
   "source": [
    "#### Writing"
   ]
  },
  {
   "cell_type": "code",
   "execution_count": null,
   "metadata": {
    "collapsed": false
   },
   "outputs": [],
   "source": [
    "out_file = open(\"outfile.txt\", 'w')\n",
    "out_file.write(\"First line.\\n\")  #unlike print, write does not do newlines for you. You have to do them by hand using \\n\n",
    "out_file.write(\"Second line.\\n\")\n",
    "out_file.write(\"Third line.\")\n",
    "out_file.close() #don't forget to close the file"
   ]
  },
  {
   "cell_type": "markdown",
   "metadata": {},
   "source": [
    "Open the created file in explorer. Then change the 'w' in the code to an 'a'. Run the code again and check the file again. What is the difference between w and a?"
   ]
  },
  {
   "cell_type": "code",
   "execution_count": null,
   "metadata": {
    "collapsed": false
   },
   "outputs": [],
   "source": [
    "commonly_seen_in_uk = {'unicorn': False, 'badger': True, 'lion': False, 'narwhale': False, 'sheep': True, \n",
    "                       'cow': True, 'pony': True, 'pygmy hippo': False, 'cat': True, 'python': False}\n",
    "#write the animals which are not commonly seen in the UK into one file and the other animals into another"
   ]
  },
  {
   "cell_type": "markdown",
   "metadata": {},
   "source": [
    "#### csv read"
   ]
  },
  {
   "cell_type": "code",
   "execution_count": null,
   "metadata": {
    "collapsed": false
   },
   "outputs": [],
   "source": [
    "import csv\n",
    "\n",
    "sum = 0\n",
    "with open(\"testfile2.csv\", 'r') as test_file:\n",
    "    reader = csv.reader(test_file)\n",
    "        \n",
    "    next(reader) #ignore header row\n",
    "        \n",
    "    for row in reader:\n",
    "        number = int(row[0])\n",
    "        sum += number\n",
    "        \n",
    "print(sum)"
   ]
  },
  {
   "cell_type": "markdown",
   "metadata": {},
   "source": [
    "R is a bit more elegant with things like this as it can load the whole table as a data frame in one go. In python you can do that with **Pandas**. Or you can just stick to R and use python for the cases where you want scripting/want to mine through a file line by line."
   ]
  },
  {
   "cell_type": "markdown",
   "metadata": {},
   "source": [
    "### os package"
   ]
  },
  {
   "cell_type": "markdown",
   "metadata": {},
   "source": [
    "The os package in python allows you to a lot of filesystem things easily."
   ]
  },
  {
   "cell_type": "code",
   "execution_count": null,
   "metadata": {
    "collapsed": false
   },
   "outputs": [],
   "source": [
    "import os"
   ]
  },
  {
   "cell_type": "code",
   "execution_count": null,
   "metadata": {
    "collapsed": false
   },
   "outputs": [],
   "source": [
    "operating_system = os.name\n",
    "print(\"You are running {}.\".format(operating_system))\n",
    "if operating_system not in ['posix', 'mac']:\n",
    "    print(\"Some things might work differently for you.\")\n",
    "print(\"The path separator for your operating system is {}.\".format(os.sep))"
   ]
  },
  {
   "cell_type": "code",
   "execution_count": null,
   "metadata": {
    "collapsed": false
   },
   "outputs": [],
   "source": [
    "os.uname() #gives you additional information (not available under windows)\n",
    "#os.uname().sysname #accessing individual fields"
   ]
  },
  {
   "cell_type": "code",
   "execution_count": null,
   "metadata": {
    "collapsed": false
   },
   "outputs": [],
   "source": [
    "os.getcwd() #returns the current working directory"
   ]
  },
  {
   "cell_type": "code",
   "execution_count": null,
   "metadata": {
    "collapsed": false
   },
   "outputs": [],
   "source": [
    "os.chdir('folders') #change the working directory using a relative path\n",
    "os.getcwd()\n",
    "#try running this command again"
   ]
  },
  {
   "cell_type": "code",
   "execution_count": null,
   "metadata": {
    "collapsed": false
   },
   "outputs": [],
   "source": [
    "#using an absolute path\n",
    "os.chdir('HERE/subfolder1') #copy and paste absolute path of folder 'folders' here\n",
    "os.getcwd()"
   ]
  },
  {
   "cell_type": "code",
   "execution_count": null,
   "metadata": {
    "collapsed": false
   },
   "outputs": [],
   "source": [
    "#get the home directory\n",
    "home_dir = os.path.expanduser('~')\n",
    "print(home_dir)"
   ]
  },
  {
   "cell_type": "markdown",
   "metadata": {},
   "source": [
    "#### os.path.join()"
   ]
  },
  {
   "cell_type": "code",
   "execution_count": null,
   "metadata": {
    "collapsed": false
   },
   "outputs": [],
   "source": [
    "python_dir = \"/home/me/python_course/introduction\"\n",
    "#replace with the path to your python, remember to use \\\\ or raw strings under windows\n",
    "folder_folder = 'folders'\n",
    "print(python_dir+folder_folder) #dangerous!"
   ]
  },
  {
   "cell_type": "code",
   "execution_count": null,
   "metadata": {
    "collapsed": false
   },
   "outputs": [],
   "source": [
    "#instead use os.path.join()\n",
    "folder_of_folders = os.path.join(python_dir, folder_folder) #what we actually wanted\n",
    "print(folder_of_folders)"
   ]
  },
  {
   "cell_type": "code",
   "execution_count": null,
   "metadata": {
    "collapsed": false
   },
   "outputs": [],
   "source": [
    "#works with more levels as well\n",
    "one_more = 'filesfolder'\n",
    "a_file = 'a_file.txt'\n",
    "print(os.path.join(python_dir, folder_folder, one_more, a_file))\n",
    "#os.path.join automatically uses the right separator for your operating system\n",
    "#it puts on separator between each part you tell it to join\n",
    "print(os.path.join(python_dir, folder_folder, one_more))\n",
    "print(os.path.join(python_dir, folder_folder, one_more, \"\"))"
   ]
  },
  {
   "cell_type": "code",
   "execution_count": null,
   "metadata": {
    "collapsed": false
   },
   "outputs": [],
   "source": [
    "#if one of the components is an absolute path then everything before gets ignored\n",
    "#os.path.join(\"/home/myhome/MyDocs\", \"Docs\", \"a_folder\", \"/usr\", \"more\") #linux example\n",
    "os.path.join(\"C:\\\\MyDocs\", \"Docs\", \"a_folder\", \"C:\\\\Programs\", \"more\") #windows example"
   ]
  },
  {
   "cell_type": "code",
   "execution_count": null,
   "metadata": {
    "collapsed": false
   },
   "outputs": [],
   "source": [
    "#os.path.join together with os.path.expanduser is very useful if you have similar folder structure \n",
    "#on home and work machine but different usernames!\n",
    "\n",
    "#write a bit of code that prints a full path to a file named 'wolpertinger.txt' in the users home directory"
   ]
  },
  {
   "cell_type": "code",
   "execution_count": null,
   "metadata": {
    "collapsed": false
   },
   "outputs": [],
   "source": [
    "#collapses redundant separators and, under windows, it turns / into \\\n",
    "print(os.path.normpath(\"C:/MyDocs//MyName\\MyFiles\"))\n",
    "#also collapses up-level references\n",
    "print(os.path.normpath(\"/home/myname/something/../file_in_myname\"))"
   ]
  },
  {
   "cell_type": "code",
   "execution_count": null,
   "metadata": {
    "collapsed": false
   },
   "outputs": [],
   "source": [
    "#get the full path for a file\n",
    "folder_of_folders = os.path.join(python_dir, \"folders\")\n",
    "os.chdir(folder_of_folders)\n",
    "os.path.realpath(\"subfolder1\")"
   ]
  },
  {
   "cell_type": "code",
   "execution_count": null,
   "metadata": {
    "collapsed": false
   },
   "outputs": [],
   "source": [
    "#get relative paths\n",
    "os.path.relpath('home/ezes1m13/python_course/folders/subfolder1', start='home/ezes1m13/')"
   ]
  },
  {
   "cell_type": "markdown",
   "metadata": {},
   "source": [
    "#### Split a path into folder and filename"
   ]
  },
  {
   "cell_type": "code",
   "execution_count": null,
   "metadata": {
    "collapsed": false
   },
   "outputs": [],
   "source": [
    "#windows: split into drive name and path\n",
    "os.path.splitdrive(\"C:\\User\\something\")"
   ]
  },
  {
   "cell_type": "code",
   "execution_count": null,
   "metadata": {
    "collapsed": false
   },
   "outputs": [],
   "source": [
    "my_file_path = \"/home/user1/files/stuff/thing2.txt\"\n",
    "print(os.path.dirname(my_file_path))\n",
    "print(os.path.basename(my_file_path))"
   ]
  },
  {
   "cell_type": "code",
   "execution_count": null,
   "metadata": {
    "collapsed": false
   },
   "outputs": [],
   "source": [
    "#we can also use split for a one-liner\n",
    "my_path, my_file = os.path.split(my_file_path)\n",
    "#what is the type of the thing that os.path.split returns?"
   ]
  },
  {
   "cell_type": "code",
   "execution_count": null,
   "metadata": {
    "collapsed": false
   },
   "outputs": [],
   "source": [
    "#try these\n",
    "my_file_path1 = \"/home/user1/files/stuff/thing2.txt\"\n",
    "my_file_path2 = \"/home/user1/files/stuff/\"\n",
    "my_file_path3 = \"/home/user1/files/stuff\"\n",
    "my_file_path4 = \"a_file\"\n",
    "print(os.path.split(my_file_path1))\n",
    "print(os.path.split(my_file_path2))\n",
    "print(os.path.split(my_file_path3))\n",
    "print(os.path.split(my_file_path4))"
   ]
  },
  {
   "cell_type": "markdown",
   "metadata": {},
   "source": [
    "#### Split filename and extension"
   ]
  },
  {
   "cell_type": "code",
   "execution_count": null,
   "metadata": {
    "collapsed": false
   },
   "outputs": [],
   "source": [
    "myfilename = \"hello.txt\"\n",
    "filename, extension = os.path.splitext(myfilename)\n",
    "print(\"Filename: {}\\nExtension: {}\".format(filename, extension))\n",
    "print(\"Extension without a dot: {}\".format(extension[1:]))"
   ]
  },
  {
   "cell_type": "code",
   "execution_count": null,
   "metadata": {
    "collapsed": false
   },
   "outputs": [],
   "source": [
    "another_file_path = \"/home/user/work/data/datas.csv\"\n",
    "#split this path into:\n",
    "#path\n",
    "#filename\n",
    "#extension without dot\n",
    "#and print all of these"
   ]
  },
  {
   "cell_type": "markdown",
   "metadata": {},
   "source": [
    "#### Check whether a file or path exists"
   ]
  },
  {
   "cell_type": "code",
   "execution_count": null,
   "metadata": {
    "collapsed": false
   },
   "outputs": [],
   "source": [
    "#finding out whether a file exists can be useful\n",
    "subfol1 = os.path.join(testfolder, \"subfolder1\")\n",
    "files_to_check = [\"a_file.txt\", \"anotherfile.txt\", \"some_file.txt\"]\n",
    "for filename in files_to_check:\n",
    "    print(os.path.exists(os.path.join(subfol1, filename)))"
   ]
  },
  {
   "cell_type": "markdown",
   "metadata": {},
   "source": [
    "#### EXTRA: Iterate over all files in a folder"
   ]
  },
  {
   "cell_type": "code",
   "execution_count": null,
   "metadata": {
    "collapsed": false
   },
   "outputs": [],
   "source": [
    "#iterate over everything\n",
    "folder_with_files = \"/home/me/python_teaching/folders/filesfolder/\" #set to the right path\n",
    "list_dir = os.listdir(folder_with_files)\n",
    "for files_and_folders in list_dir:\n",
    "    print(files_and_folders)\n",
    "#change this so that it prints the full path for each file/folder"
   ]
  },
  {
   "cell_type": "code",
   "execution_count": null,
   "metadata": {
    "collapsed": false
   },
   "outputs": [],
   "source": [
    "#iterate over files\n",
    "folder_with_files = \"/home/me/python_teaching/folders/filesfolder/\" #set to the right path\n",
    "list_dir = os.listdir(folder_with_files)\n",
    "#filter to get only files\n",
    "just_files = [x for x in list_dir if os.path.isfile(os.path.join(folder_with_files, x))] #equivalent for dirs: os.path.isdir()\n",
    "for a_file in just_files:\n",
    "    print(a_file)"
   ]
  },
  {
   "cell_type": "code",
   "execution_count": null,
   "metadata": {
    "collapsed": false
   },
   "outputs": [],
   "source": [
    "#iterate over all files with a certain extension\n",
    "folder_with_files = \"/home/me/python_teaching/folders/filesfolder/\" #set to the right path\n",
    "list_dir = os.listdir(folder_with_files)\n",
    "#filter to get only files\n",
    "just_files = [x for x in list_dir if os.path.isfile(os.path.join(folder_with_files, x))] #equivalent for dirs: os.path.isdir()\n",
    "just_csvs = [x for x in just_files if x.endswith(\".csv\")] #string.startwith() is also a thing\n",
    "for a_file in just_csvs:\n",
    "    print(a_file)"
   ]
  },
  {
   "cell_type": "markdown",
   "metadata": {},
   "source": [
    "Note: you could also do the filtering in the loop if you prefer!"
   ]
  },
  {
   "cell_type": "code",
   "execution_count": null,
   "metadata": {
    "collapsed": false
   },
   "outputs": [],
   "source": [
    "folder_with_files = \"/home/codenotebooks/python_teaching/folders/filesfolder/\" #set to the right path\n",
    "list_dir = os.listdir(folder_with_files)\n",
    "for a_thing in list_dir:\n",
    "    if os.path.isfile(os.path.join(folder_with_files, a_thing)) and a_thing.endswith(\".csv\"):\n",
    "        print(a_thing)"
   ]
  },
  {
   "cell_type": "code",
   "execution_count": null,
   "metadata": {
    "collapsed": false
   },
   "outputs": [],
   "source": [
    "#write some code that displays both files and directories but tells us which is which like so:\n",
    "#name: Directory!\n",
    "#name: File\n",
    "#name: File\n",
    "#....."
   ]
  },
  {
   "cell_type": "markdown",
   "metadata": {},
   "source": [
    "## Functions"
   ]
  },
  {
   "cell_type": "markdown",
   "metadata": {},
   "source": [
    "When our code gets longer and longer it often becomes unreadable. We can pack code into smaller bits called **functions**. Functions are also a great way to reuse code."
   ]
  },
  {
   "cell_type": "code",
   "execution_count": null,
   "metadata": {
    "collapsed": false
   },
   "outputs": [],
   "source": [
    "#let's define a function called print_hello\n",
    "def print_hello(): #the name() tells python that name is a function (and not a variable)\n",
    "    print(\"Hello\")\n",
    "\n",
    "print_hello()\n",
    "print_hello()\n",
    "print_hello()"
   ]
  },
  {
   "cell_type": "code",
   "execution_count": null,
   "metadata": {
    "collapsed": false
   },
   "outputs": [],
   "source": [
    "#write a small function that prints a triangle made out of **** s\n",
    "#then call that function 5 times\n",
    "#how many lines of code have you saved in comparison to copying and pasting the same code 5 times?"
   ]
  },
  {
   "cell_type": "markdown",
   "metadata": {},
   "source": [
    "Functions don't have to do exactly the same thing every time. We can pass **arguments** to functions. They can be used to switch between different behaviours of the function or the can specify information that the function works on."
   ]
  },
  {
   "cell_type": "code",
   "execution_count": null,
   "metadata": {
    "collapsed": false
   },
   "outputs": [],
   "source": [
    "def greeting(name): #this function has one argument, named 'name'\n",
    "    print(\"Hello {}!\".format(name))\n",
    "greeting('Elisabeth')\n",
    "greeting('Your name')\n",
    "greeting('someone')\n",
    "greeting('mysterious stranger')\n",
    "greeting('Doctor')\n",
    "#change the statement so that it uses a different greeting such as Howdy\n",
    "#now imagine you had to change that for all five people! Using a function means we only have to do one change no matter\n",
    "#how often we use the function! Yay!"
   ]
  },
  {
   "cell_type": "code",
   "execution_count": null,
   "metadata": {
    "collapsed": false
   },
   "outputs": [],
   "source": [
    "#write a variant of the greetings function that prints something that depends on the name passed\n",
    "#such as a correct regional greeting depending on country of origin or something else"
   ]
  },
  {
   "cell_type": "code",
   "execution_count": null,
   "metadata": {
    "collapsed": false
   },
   "outputs": [],
   "source": [
    "#functions generally return something (but don't have to)\n",
    "def give_it_back(something):\n",
    "    return something #the return keyword specifies what to return\n",
    "print(give_it_back(\"ping\")) #this does nothing\n",
    "#try passing the function an int instead of a string\n",
    "#or a list\n",
    "#python doesn't mind (unlike java et al)"
   ]
  },
  {
   "cell_type": "code",
   "execution_count": null,
   "metadata": {
    "collapsed": false
   },
   "outputs": [],
   "source": [
    "#a function can have more than one argument\n",
    "def powers(base, exponent):\n",
    "    return base**exponent\n",
    "print(\"{} is not the same as {}.\".format(powers(2,3), powers(3,2)))"
   ]
  },
  {
   "cell_type": "code",
   "execution_count": null,
   "metadata": {
    "collapsed": false
   },
   "outputs": [],
   "source": [
    "#and we can (and ideally should) refer to the arguments using their names\n",
    "#this means that even if get are confused about the the order, we still get the right result\n",
    "print(\"{} IS the same as {}.\".format(powers(base=2,exponent=3), powers(exponent=3,base=2)))"
   ]
  },
  {
   "cell_type": "code",
   "execution_count": null,
   "metadata": {
    "collapsed": false
   },
   "outputs": [],
   "source": [
    "#functions can return more than one value in python (the type of the returned thing is a tuple by default)\n",
    "def i_return_two_things(filename):\n",
    "    name, extension = os.path.splitext(filename)\n",
    "    return name, extension[1:]\n",
    "nam, ext = i_return_two_things(\"made_up_filename.txt\")\n",
    "print(type(things))\n",
    "print(\"Name:\", nam)\n",
    "print(\"Extension:\", ext)"
   ]
  },
  {
   "cell_type": "code",
   "execution_count": null,
   "metadata": {
    "collapsed": false
   },
   "outputs": [],
   "source": [
    "#write a function that splits a filename with path into path, filename without extension and extension without . \n",
    "#and returns these 3 parts\n",
    "a_filename_with_path = \"/home/wally/files/mr_file.csv\""
   ]
  },
  {
   "cell_type": "code",
   "execution_count": null,
   "metadata": {
    "collapsed": false
   },
   "outputs": [],
   "source": [
    "#we can specify default values for arguments, which makes them optional\n",
    "def say_hi(name, greeting=\"Hello\"):\n",
    "    print(\"{} {}!!!\".format(greeting, name))\n",
    "say_hi(name=\"Elisabeth\")\n",
    "say_hi(name=\"Elisabeth\", greeting=\"Hallo\")\n",
    "say_hi(greeting='Yo') #what is wrong with this one?"
   ]
  },
  {
   "cell_type": "code",
   "execution_count": null,
   "metadata": {
    "collapsed": false
   },
   "outputs": [],
   "source": [
    "#optional, undefined arguments: sometimes we want to leave an argument undefined\n",
    "#we can use the keyword None for that\n",
    "def say_hi2(name=None, greeting=\"Hello\"):\n",
    "    if name is None: #now we can check whether the user has set name and act accordingly\n",
    "        if greeting == \"Hallo\":\n",
    "            name = \"Elisabeth\"\n",
    "        elif greeting == \"Buon giorno\":\n",
    "            name = \"Carla or Alessandro\"\n",
    "        else:\n",
    "            name = \"Stranger\"\n",
    "    print(\"{} {}!!!\".format(greeting, name))\n",
    "say_hi2()\n",
    "#test a few more combinations"
   ]
  },
  {
   "cell_type": "markdown",
   "metadata": {},
   "source": [
    "#### EXTRA: Why using None can be really important"
   ]
  },
  {
   "cell_type": "code",
   "execution_count": null,
   "metadata": {
    "collapsed": false
   },
   "outputs": [],
   "source": [
    "def spam(eggs=[]): #using empty list\n",
    "    eggs.append(\"spam\")\n",
    "    return eggs\n",
    "spam()\n",
    "spam()\n",
    "spam()\n",
    "spam()"
   ]
  },
  {
   "cell_type": "markdown",
   "metadata": {},
   "source": [
    "Huh, what happened there? The issue is that we have assigned a *mutable* object as a default. So python thinks it is clever: at the time of the second call it thinks \"hey, I've done eggs=[] already, so eggs now exists, so let's use the thing that I already have.\" Which is not what we want most of the time!"
   ]
  },
  {
   "cell_type": "code",
   "execution_count": null,
   "metadata": {
    "collapsed": false
   },
   "outputs": [],
   "source": [
    "#instead use\n",
    "def spam(eggs=None): #using empty list\n",
    "    if eggs is None:\n",
    "        eggs = []\n",
    "    eggs.append(\"spam\")\n",
    "    return eggs\n",
    "spam()\n",
    "spam()\n",
    "spam()\n",
    "spam()"
   ]
  },
  {
   "cell_type": "markdown",
   "metadata": {},
   "source": [
    "#### EXTRA: Side effects (not the medical kind but potentially fatal)"
   ]
  },
  {
   "cell_type": "code",
   "execution_count": null,
   "metadata": {
    "collapsed": false
   },
   "outputs": [],
   "source": [
    "def i_have_side_effects(unsorted_list):\n",
    "    unsorted_list.sort()\n",
    "    for item in unsorted_list:\n",
    "        print(item)\n",
    "my_list = [4, 17, 1, 32, 9, 12]\n",
    "print(my_list)\n",
    "i_have_side_effects(my_list)\n",
    "print(my_list)"
   ]
  },
  {
   "cell_type": "markdown",
   "metadata": {},
   "source": [
    "What happens in the function does not stay in the function if we work on mutable objects!"
   ]
  },
  {
   "cell_type": "code",
   "execution_count": null,
   "metadata": {
    "collapsed": false
   },
   "outputs": [],
   "source": [
    "def plus_one(number):\n",
    "    number += 1\n",
    "    print(number, \"!\")\n",
    "my_number = 7\n",
    "print(my_number)\n",
    "plus_one(my_number)\n",
    "print(my_number)"
   ]
  },
  {
   "cell_type": "markdown",
   "metadata": {},
   "source": [
    "A number is immutable, so what happens in the function stays in the function!"
   ]
  },
  {
   "cell_type": "markdown",
   "metadata": {},
   "source": [
    "Right, so this is all a bit upsetting but there is more that you need to know..."
   ]
  },
  {
   "cell_type": "markdown",
   "metadata": {},
   "source": [
    "#### EXTRA: Scope"
   ]
  },
  {
   "cell_type": "code",
   "execution_count": null,
   "metadata": {
    "collapsed": false
   },
   "outputs": [],
   "source": [
    "def mathsy_stuff(nr):\n",
    "    nr2 = 10\n",
    "    return nr+nr2\n",
    "nr = 1\n",
    "nr2 = 2\n",
    "print(mathsy_stuff(nr))"
   ]
  },
  {
   "cell_type": "markdown",
   "metadata": {},
   "source": [
    "What happens here is that the nr2 within the function is a different nr2 to the nr2 on the outside. nr2 within the function only exists within the function and the space where it exists is called its scope."
   ]
  },
  {
   "cell_type": "code",
   "execution_count": null,
   "metadata": {
    "collapsed": false
   },
   "outputs": [],
   "source": [
    "def mathsy_stuff(nr):\n",
    "    return nr+nr2\n",
    "nr = 1\n",
    "nr2 = 2\n",
    "print(mathsy_stuff(nr))"
   ]
  },
  {
   "cell_type": "markdown",
   "metadata": {},
   "source": [
    "So now that the inner nr2 doesn't exist, python looks further away and finds the outer nr2."
   ]
  },
  {
   "cell_type": "code",
   "execution_count": null,
   "metadata": {
    "collapsed": false
   },
   "outputs": [],
   "source": [
    "def mathsy_stuff(nr):\n",
    "    nr2 += 1\n",
    "    return nr+nr2\n",
    "nr = 1\n",
    "nr2 = 2\n",
    "print(mathsy_stuff(nr))"
   ]
  },
  {
   "cell_type": "markdown",
   "metadata": {},
   "source": [
    "Ahm yes, I did say this might be a bit uncomfortable/confusing? What happens here is that we are trying to modify nr2 from within the function. But nr2 doesn't belong to the function mathsy_stuff because it normally lives outside. So mathsy_stuff is allowed to look at it, but not change it!"
   ]
  },
  {
   "cell_type": "code",
   "execution_count": null,
   "metadata": {
    "collapsed": false
   },
   "outputs": [],
   "source": [
    "def mathsy_stuff(nr):\n",
    "    nr5 = 5\n",
    "    return nr+nr2\n",
    "nr = 1\n",
    "print(mathsy_stuff(nr))\n",
    "print(nr5)"
   ]
  },
  {
   "cell_type": "markdown",
   "metadata": {},
   "source": [
    "This one fails because nr5 only exists within the function, so we can't access it from outside of the function, because it doesn't exist on the outside."
   ]
  },
  {
   "cell_type": "markdown",
   "metadata": {},
   "source": [
    "#### Time to unconfuse!"
   ]
  },
  {
   "cell_type": "markdown",
   "metadata": {},
   "source": [
    "1) Variables declared outside defs are visible everywhere (outside and inside the def). But within the def can't assign a new value because it doesn't \"own\" the variable."
   ]
  },
  {
   "cell_type": "code",
   "execution_count": null,
   "metadata": {
    "collapsed": false
   },
   "outputs": [],
   "source": [
    "i_am_global = \"GLOBAL\"\n",
    "def outer_def():\n",
    "    print(i_am_global)  #i am global is not defined within outher_def yet, so it goes to the global one\n",
    "    #i_am_global = \"NOT #not allowed\n",
    "outer_def()\n",
    "print(i_am_global)      #but only within the function. On the outside we can see the global one again."
   ]
  },
  {
   "cell_type": "markdown",
   "metadata": {},
   "source": [
    "2) Variables inside a def that have the same name as a variable on the outside hide the outside variable temporarily."
   ]
  },
  {
   "cell_type": "code",
   "execution_count": null,
   "metadata": {
    "collapsed": false
   },
   "outputs": [],
   "source": [
    "i_am_global = \"GLOBAL\"\n",
    "def outer_def():\n",
    "    i_am_global = \"NOT\" #with this we create a new variable with the same name. It hides the other variable\n",
    "    print(i_am_global) \n",
    "outer_def()\n",
    "print(i_am_global)      #but only within the function. On the outside we can see the global one again."
   ]
  },
  {
   "cell_type": "markdown",
   "metadata": {},
   "source": [
    "3) Variables defined within a def are local and can not be accessed from outside the def."
   ]
  },
  {
   "cell_type": "code",
   "execution_count": null,
   "metadata": {
    "collapsed": false
   },
   "outputs": [],
   "source": [
    "def outer_def():\n",
    "    non_global = \"LOCAL\"\n",
    "print(non_global)"
   ]
  },
  {
   "cell_type": "markdown",
   "metadata": {},
   "source": [
    "4) The whole thing is hierarchical: Variables inside a def that has another def nested inside are global from the view of the inner def and local when seen from the outer def."
   ]
  },
  {
   "cell_type": "code",
   "execution_count": null,
   "metadata": {
    "collapsed": false
   },
   "outputs": [],
   "source": [
    "def outer_def():\n",
    "    i_am_local_global = \"HM?\"\n",
    "    print(i_am_fully_local)\n",
    "    def inner_def():\n",
    "        i_am_fully_local = \"LOCAL\"\n",
    "        print(i_am_local_global)\n",
    "        print(i_am_fully_local)\n",
    "    inner_def()\n",
    "outer_def()\n",
    "print(i_am_local_global)\n",
    "print(i_am_fully_local)\n",
    "#comment out all statements that lead to errors"
   ]
  },
  {
   "cell_type": "markdown",
   "metadata": {},
   "source": [
    "### Running from the command line"
   ]
  },
  {
   "cell_type": "markdown",
   "metadata": {},
   "source": [
    "In the python_course folder is a file called *my_library.py*. Open that file in an editor and see what it contains."
   ]
  },
  {
   "cell_type": "markdown",
   "metadata": {},
   "source": [
    "Now open the command window, it should be under: Start, All Programs, Accessories, Command Prompt.\n",
    "\n",
    "Type: python3 c:\\pathtofile\\my_library.py and press enter\n",
    "\n",
    "This should run the script and you should be able to see the output in the command prompt."
   ]
  },
  {
   "cell_type": "markdown",
   "metadata": {},
   "source": [
    "#### Import your own code"
   ]
  },
  {
   "cell_type": "markdown",
   "metadata": {},
   "source": [
    "We have imported existing modules before, but we can do the same with our own code."
   ]
  },
  {
   "cell_type": "code",
   "execution_count": null,
   "metadata": {
    "collapsed": false
   },
   "outputs": [],
   "source": [
    "from my_library import useful_function"
   ]
  },
  {
   "cell_type": "markdown",
   "metadata": {},
   "source": [
    "What happens here is that when we load the file, the code that is not in a function gets executed, printing a lot of things.\n",
    "\n",
    "If we don't want this to happen we have to define a main method. A main method is run only when the script is run as a stand-alone script, but **not** when it is imported as a library (which is what we want)."
   ]
  },
  {
   "cell_type": "code",
   "execution_count": null,
   "metadata": {
    "collapsed": false
   },
   "outputs": [],
   "source": [
    "#!/usr/bin/python3\n",
    "\n",
    "#defs go here\n",
    "\n",
    "def main():\n",
    "    #stuff that only gets executed in stand-alone mode goes here\n",
    "if __name__ == \"__main__\":\n",
    "    main()"
   ]
  },
  {
   "cell_type": "markdown",
   "metadata": {},
   "source": [
    "Adjust my_library.py in that way."
   ]
  },
  {
   "cell_type": "code",
   "execution_count": null,
   "metadata": {
    "collapsed": false
   },
   "outputs": [],
   "source": [
    "#after import we can use the functions we imported\n",
    "useful_function(lolspeak=True)"
   ]
  },
  {
   "cell_type": "code",
   "execution_count": null,
   "metadata": {
    "collapsed": false
   },
   "outputs": [],
   "source": [
    "#not imported, so can't use it\n",
    "last_element([1,2,3])"
   ]
  },
  {
   "cell_type": "code",
   "execution_count": null,
   "metadata": {
    "collapsed": false
   },
   "outputs": [],
   "source": [
    "import my_library #imports the whole library\n",
    "my_library.last_element([1,2,3]) #but we have to put the filename/module name in front of the function\n",
    "#last_element([1,2,3]) #this still doesn't work"
   ]
  },
  {
   "cell_type": "code",
   "execution_count": null,
   "metadata": {
    "collapsed": false
   },
   "outputs": [],
   "source": [
    "#or we can import everything from the whole library\n",
    "from my_library import *\n",
    "useful_function(lolspeak=True)\n",
    "last_element([1,2,3])"
   ]
  },
  {
   "cell_type": "markdown",
   "metadata": {},
   "source": [
    "## Useful links"
   ]
  },
  {
   "cell_type": "markdown",
   "metadata": {},
   "source": [
    "a nice interactive beginners course (if you want to practice some of the things from here some more):\n",
    "    \n",
    "http://www.codecademy.com/\n",
    "\n",
    "a blogpost on python books and courses:\n",
    "\n",
    "http://simulatingcomplexity.wordpress.com/2014/11/03/python/\n",
    "\n",
    "and a (challenging but not because of the programming) online game:\n",
    "\n",
    "http://www.pythonchallenge.com/\n",
    "\n",
    "an online course:\n",
    "\n",
    "http://learnpythonthehardway.org/book/\n",
    "\n",
    "The official python documentation:\n",
    "\n",
    "https://docs.python.org/3.4/"
   ]
  },
  {
   "cell_type": "code",
   "execution_count": null,
   "metadata": {
    "collapsed": false
   },
   "outputs": [],
   "source": []
  }
 ],
 "metadata": {
  "kernelspec": {
   "display_name": "Python 3",
   "language": "python",
   "name": "python3"
  },
  "language_info": {
   "codemirror_mode": {
    "name": "ipython",
    "version": 3
   },
   "file_extension": ".py",
   "mimetype": "text/x-python",
   "name": "python",
   "nbconvert_exporter": "python",
   "pygments_lexer": "ipython3",
   "version": "3.4.3"
  }
 },
 "nbformat": 4,
 "nbformat_minor": 0
}
