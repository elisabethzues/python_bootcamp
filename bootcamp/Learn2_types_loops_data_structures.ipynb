{
 "cells": [
  {
   "cell_type": "markdown",
   "metadata": {},
   "source": [
    "## Types"
   ]
  },
  {
   "cell_type": "markdown",
   "metadata": {},
   "source": [
    "Variables have different types in python, such as string (if you don't love them by now I don't know what to do), int or float."
   ]
  },
  {
   "cell_type": "code",
   "execution_count": null,
   "metadata": {
    "collapsed": false
   },
   "outputs": [],
   "source": [
    "i_am_a_string = \"string\" #python knows because of the \"\" or ''\n",
    "me_too = 'also a string'"
   ]
  },
  {
   "cell_type": "code",
   "execution_count": null,
   "metadata": {
    "collapsed": false
   },
   "outputs": [],
   "source": [
    "type(\"string\") #type tells you the type of a literal or variable"
   ]
  },
  {
   "cell_type": "code",
   "execution_count": null,
   "metadata": {
    "collapsed": false
   },
   "outputs": [],
   "source": [
    "print(type(6))\n",
    "print(type(6.0)) #if it has a dot, python makes it a float"
   ]
  },
  {
   "cell_type": "markdown",
   "metadata": {},
   "source": [
    "Variables can also have more complex types such as list (we'll learn about other more advanced data types later)."
   ]
  },
  {
   "cell_type": "code",
   "execution_count": null,
   "metadata": {
    "collapsed": false
   },
   "outputs": [],
   "source": [
    "a_list = ['I am a list', \"I contain stuff\", 5, 7.0]\n",
    "type(a_list)"
   ]
  },
  {
   "cell_type": "markdown",
   "metadata": {},
   "source": [
    "The way python does types is different from other languages. Other languages go:\n",
    "\n",
    "\"I have to know what that thing is. I'm not touching it until you tell me exactly what it is.\"\n",
    "\n",
    "Python says:\n",
    "\n",
    "\"If it looks like a number its probably a number and if it looks like a string I use it like a string. Whatever I get handed, I just try and make it work. And if it doesn't work, I'll just throw it back in the programmer's face. Teaches them to give me something that makes sense next time.\"\n",
    "\n",
    "**It's called duck-typing because of this poem:**\n",
    "\n",
    "“When I see a bird that walks like a duck and swims like a duck and quacks like a duck, I call that bird a duck.”"
   ]
  },
  {
   "cell_type": "markdown",
   "metadata": {},
   "source": [
    "So you can do crazy stuff like this:"
   ]
  },
  {
   "cell_type": "code",
   "execution_count": null,
   "metadata": {
    "collapsed": false
   },
   "outputs": [],
   "source": [
    "i_can_be_anything_i_like = 5\n",
    "print(type(i_can_be_anything_i_like))\n",
    "i_can_be_anything_i_like = 5.0\n",
    "print(type(i_can_be_anything_i_like))\n",
    "i_can_be_anything_i_like = \"anything\"\n",
    "print(type(i_can_be_anything_i_like))"
   ]
  },
  {
   "cell_type": "markdown",
   "metadata": {},
   "source": [
    "With great power... The usual..."
   ]
  },
  {
   "cell_type": "markdown",
   "metadata": {},
   "source": [
    "#### Casting"
   ]
  },
  {
   "cell_type": "markdown",
   "metadata": {},
   "source": [
    "Sometimes we know a variable is the wrong type but we want to change the type. In the example below we know that *nine* contains a string but we can see it is a number. In that case we can *cast* the variable to become an int."
   ]
  },
  {
   "cell_type": "code",
   "execution_count": null,
   "metadata": {
    "collapsed": false
   },
   "outputs": [],
   "source": [
    "eight = 8\n",
    "nine = \"9\"\n",
    "#1) ---- print type of nine here ----\n",
    "nine = int(nine)\n",
    "#2) ---- print type of nine here ----\n",
    "print(nine+eight)\n",
    "#print the type of eight\n",
    "#print the type of nine at position 1 and again at position 2 (remove the comment)"
   ]
  },
  {
   "cell_type": "markdown",
   "metadata": {},
   "source": [
    "As mentioned above, python will try its best if you ask it to do stupid things but you won't get away with it."
   ]
  },
  {
   "cell_type": "code",
   "execution_count": null,
   "metadata": {
    "collapsed": false
   },
   "outputs": [],
   "source": [
    "ten = \"ten\"\n",
    "int(ten)"
   ]
  },
  {
   "cell_type": "code",
   "execution_count": null,
   "metadata": {
    "collapsed": false
   },
   "outputs": [],
   "source": [
    "int_nr1 = 2\n",
    "print(float(int_nr1))\n",
    "a_float = 7.5\n",
    "print(\"{0}: was a {1}, now it is a {2}\".format(int(a_float), type(a_float),type(int(a_float))))\n",
    "print(str(a_float))"
   ]
  },
  {
   "cell_type": "code",
   "execution_count": null,
   "metadata": {
    "collapsed": false
   },
   "outputs": [],
   "source": [
    "float2 = 6.9\n",
    "another_string = \"Number follows: \"\n",
    "print(another_string+float2) #fix this, output we want is Number follows: 6.9"
   ]
  },
  {
   "cell_type": "markdown",
   "metadata": {},
   "source": [
    "### Booleans and logic"
   ]
  },
  {
   "cell_type": "markdown",
   "metadata": {},
   "source": [
    "In addition to numbers and strings there is another simple type in python: booleans. They can be true or false or as python likes to call it True or False."
   ]
  },
  {
   "cell_type": "code",
   "execution_count": null,
   "metadata": {
    "collapsed": false
   },
   "outputs": [],
   "source": [
    "pi_is_3 = False\n",
    "earth_is_not_flat = True\n",
    "print(pi_is_3)\n",
    "#print the type of earth_is_not_flat"
   ]
  },
  {
   "cell_type": "code",
   "execution_count": null,
   "metadata": {
    "collapsed": false
   },
   "outputs": [],
   "source": [
    "#we can ask more complicated questions using logical operators such as 'not', 'and' and 'or.\n",
    "i_like_bananas = True\n",
    "you_like_bananas = False\n",
    "print(i_like_bananas and you_like_bananas)\n",
    "print(i_like_bananas or you_like_bananas)\n",
    "print(i_like_bananas and not you_like_bananas) #by using words logic statements are almost human readable if your approach to grammar is flexible"
   ]
  },
  {
   "cell_type": "code",
   "execution_count": null,
   "metadata": {
    "collapsed": false
   },
   "outputs": [],
   "source": [
    "i_want_cookies = True\n",
    "i_want_cake = True\n",
    "i_want_cookies or i_want_cake"
   ]
  },
  {
   "cell_type": "markdown",
   "metadata": {},
   "source": [
    "This means that answering 'yes' when being asked whether you want cookies or cake is a logically legitimate answer. In fact, you are obliged to laugh at this insider joke when made by a mathematician, physicist or computer scientist. If you don't want to get into this awkward situation use *exclusive or*!"
   ]
  },
  {
   "cell_type": "code",
   "execution_count": null,
   "metadata": {
    "collapsed": false
   },
   "outputs": [],
   "source": [
    "i_want_cookies ^ i_want_cake\n",
    "#you can't have BOTH!"
   ]
  },
  {
   "cell_type": "markdown",
   "metadata": {},
   "source": [
    "## Let's do a logic crashcourse now!"
   ]
  },
  {
   "cell_type": "markdown",
   "metadata": {},
   "source": [
    "#### Here are some logic questions. Try to work the answer out by hand and then test it using python!"
   ]
  },
  {
   "cell_type": "raw",
   "metadata": {},
   "source": [
    "If you're doing this course by yourself, read up on basic logic or just ignore this section. I do really recommend that you learn about basic logic otherwise you'll end up in situations where you want all entries in a file for the countries 'Africa' and 'Europe' and you write a code that says \"give me all the countries that are on the continent: Africa and Europe\" and then wonder why you don't get what you expected.\n",
    "\n",
    "If this doesn't make sense, go and spend 20min learning about basic logic!!!"
   ]
  },
  {
   "cell_type": "raw",
   "metadata": {},
   "source": [
    "a is true\n",
    "d is false\n",
    "b and c depend\n",
    "\n",
    "a and b, b is true\n",
    "b or a, b is false\n",
    "(not a) and (not b), b is false\n",
    "not(a and b), b is false\n",
    "(not a) or (not b), b is true\n",
    "not(a or b), b is false\n",
    "not(a or (not b)), b is true\n",
    "(a or (not b)) and ((b and a) or (not b)), b is true\n",
    "((b or a) or b) or ((b and a) and b), b is true\n",
    "(a and b) or c, b is true and c is false\n",
    "((a and b) or not(c and d)) and ((not c) or a) b is false and c is false\n",
    "(((a or b) and c) and (not d)) or (a or d) b is true, c is true"
   ]
  },
  {
   "cell_type": "code",
   "execution_count": null,
   "metadata": {
    "collapsed": false
   },
   "outputs": [],
   "source": [
    "#when you have the answers test them in python!"
   ]
  },
  {
   "cell_type": "markdown",
   "metadata": {},
   "source": [
    "#### Operators with boolean results"
   ]
  },
  {
   "cell_type": "markdown",
   "metadata": {},
   "source": [
    "Before we used operators that took two booleans and returned another boolean. Let's now look at operators that take other things and spit out a True/False answer."
   ]
  },
  {
   "cell_type": "code",
   "execution_count": null,
   "metadata": {
    "collapsed": false
   },
   "outputs": [],
   "source": [
    "#we saw the in operator before\n",
    "print('a' in 'Ah')\n",
    "print('a' in ['b', 'a', 'c'])\n",
    "print('a' not in ['b', 'a', 'c'])"
   ]
  },
  {
   "cell_type": "code",
   "execution_count": null,
   "metadata": {
    "collapsed": false
   },
   "outputs": [],
   "source": [
    "#We can compare things:\n",
    "print( 5 > 3 )\n",
    "print( 6 <= 4 + 1 )\n",
    "print( 15 == 10 + 2 + 4 ) #equality is tested using == in python\n",
    "print( 'hello' != 'goodbye' )"
   ]
  },
  {
   "cell_type": "code",
   "execution_count": null,
   "metadata": {
    "collapsed": false
   },
   "outputs": [],
   "source": [
    "#and we can mix many things together\n",
    "c = True\n",
    "plant_1 = 'Flower'\n",
    "a_number = 3\n",
    "(4 + a_number) / 16 < 432 and 'e' not in 'Wonderland' or 4.0 in [4, 5, 6] and plant_1 != \"Tree\" and c\n",
    "#notice that whenever we use a variable python just put the value that is stored under the variable name in the place where the variable name is"
   ]
  },
  {
   "cell_type": "code",
   "execution_count": null,
   "metadata": {
    "collapsed": false
   },
   "outputs": [],
   "source": [
    "# is 5 + 17 / 45 larger than 0.8732?"
   ]
  },
  {
   "cell_type": "markdown",
   "metadata": {},
   "source": [
    "#### **EXTRA**: Operator precedence"
   ]
  },
  {
   "cell_type": "markdown",
   "metadata": {},
   "source": [
    "Before we find out why logic and bools are useful another slightly boring thing that might save you hours of debugging one day."
   ]
  },
  {
   "cell_type": "raw",
   "metadata": {},
   "source": [
    "For mathematical calculations we know that * and / bind stronger than + and -. In programming this extends to other operators and it's called operator precedence. "
   ]
  },
  {
   "cell_type": "raw",
   "metadata": {},
   "source": [
    "1 () [] (,)\n",
    "2 **\n",
    "3 ~, +,- unary\n",
    "4 * / // %\n",
    "5 + -\n",
    "6 & bitwise\n",
    "7 ^ bitwise\n",
    "8 |? \n",
    "9 < <= == != in, not in, is, is not\n",
    "10 not\n",
    "11 and\n",
    "12 or\n",
    "13 =, +=, -=, /=, *= **="
   ]
  },
  {
   "cell_type": "markdown",
   "metadata": {},
   "source": [
    "The easy solution to this is to put parentheses around everything, which might make your statements harder to read, but more likely to do the thing you want. I personally tend to err on the side of too many parentheses..."
   ]
  },
  {
   "cell_type": "code",
   "execution_count": null,
   "metadata": {
    "collapsed": false
   },
   "outputs": [],
   "source": [
    "5 + 4 < 7 + 3\n",
    "# (5 + 4) < (7 + 3)"
   ]
  },
  {
   "cell_type": "code",
   "execution_count": null,
   "metadata": {
    "collapsed": false
   },
   "outputs": [],
   "source": [
    "2 + 1 <= 5 and '5' not in \"Christmas\"\n",
    "#might be easier to see whats going on like this:\n",
    "( 2 + 1 <= 5 ) and ( '5' not in \"Christmas\")"
   ]
  },
  {
   "cell_type": "code",
   "execution_count": null,
   "metadata": {
    "collapsed": false
   },
   "outputs": [],
   "source": [
    "#when python doesn't know what to do it goes from left to right\n",
    "4 + 3 + 5\n",
    "#(4 + 3) + 5"
   ]
  },
  {
   "cell_type": "markdown",
   "metadata": {},
   "source": [
    "Only in rare cases any of this will ever become a problem so all you need to remember that it exists and is called operator precedence in case a complicated statement will give you a result that you didn't expect!\n",
    "\n",
    "If you run into problems, brackets in the right places will fix it."
   ]
  },
  {
   "cell_type": "markdown",
   "metadata": {},
   "source": [
    "### if statements"
   ]
  },
  {
   "cell_type": "markdown",
   "metadata": {},
   "source": [
    "Sometimes we want to do different things for different cases."
   ]
  },
  {
   "cell_type": "code",
   "execution_count": null,
   "metadata": {
    "collapsed": false
   },
   "outputs": [],
   "source": [
    "i_like_bananas = #fill in as appropriate\n",
    "if i_like_bananas:\n",
    "    print(\"Yay, bananas!\")\n",
    "else:\n",
    "    print(\"Urgh, I hate bananas.\")"
   ]
  },
  {
   "cell_type": "raw",
   "metadata": {},
   "source": [
    "The syntax is:\n",
    "if (something that is true or false): #this can be a boolean variable or a statement that evaluates to true/false, like a == b\n",
    "    something happens\n",
    "else:\n",
    "    something else happens"
   ]
  },
  {
   "cell_type": "code",
   "execution_count": null,
   "metadata": {
    "collapsed": false
   },
   "outputs": [],
   "source": [
    "#The spaces are really important in python! We'll talk more about that later, \n",
    "#but just notice how python doesn't like this:\n",
    "if True:\n",
    "print('Hello')"
   ]
  },
  {
   "cell_type": "code",
   "execution_count": null,
   "metadata": {
    "collapsed": false
   },
   "outputs": [],
   "source": [
    "#another example\n",
    "nr_1 = 8634\n",
    "nr_2 = 6442\n",
    "if nr_1 > nr_2:\n",
    "    print(\"{0} is bigger than {1}\".format(nr_1, nr_2))\n",
    "else:\n",
    "    print(\"{1} is bigger than {0}\".format(nr_1, nr_2))\n",
    "#try setting both to the same number"
   ]
  },
  {
   "cell_type": "markdown",
   "metadata": {},
   "source": [
    "The example above lacked a third case for when the two number are equal. We can do that as well!"
   ]
  },
  {
   "cell_type": "code",
   "execution_count": null,
   "metadata": {
    "collapsed": false
   },
   "outputs": [],
   "source": [
    "if nr_1 > nr_2:\n",
    "    print(\"{0} is bigger than {1}\".format(nr_1, nr_2))\n",
    "elif nr_1 < nr_2:\n",
    "    print(\"{1} is bigger than {0}\".format(nr_1, nr_2))\n",
    "else:\n",
    "    print(\"{1} is equal to {0}\".format(nr_1, nr_2))"
   ]
  },
  {
   "cell_type": "code",
   "execution_count": null,
   "metadata": {
    "collapsed": false
   },
   "outputs": [],
   "source": [
    "#and even more\n",
    "number = #fill in a number\n",
    "if number < 3:\n",
    "    print(\"Go on\")\n",
    "elif number == 3:\n",
    "    print('Yay')\n",
    "elif number == 4:\n",
    "    print('Booom')\n",
    "elif number == 5:\n",
    "    print('Right out')\n",
    "else:\n",
    "    print('How did we get that far?')"
   ]
  },
  {
   "cell_type": "code",
   "execution_count": null,
   "metadata": {
    "collapsed": false
   },
   "outputs": [],
   "source": [
    "#sometimes we just need the if bit\n",
    "print_something = False\n",
    "if print_something:\n",
    "    print(\"something\")"
   ]
  },
  {
   "cell_type": "code",
   "execution_count": null,
   "metadata": {
    "collapsed": false
   },
   "outputs": [],
   "source": [
    "#note that program only gets to the elif and else stage if the 'if' bit is false, \n",
    "#so sometimes we have to be carefully with the order!\n",
    "word = 'yo'\n",
    "if 'y' in word:\n",
    "    print(\"Contains y\")\n",
    "elif 'o' in word:\n",
    "    print(\"Contains o\")\n",
    "#the elif part only happens when the if bit DOES NOT\n",
    "\n",
    "#try switching them around!"
   ]
  },
  {
   "cell_type": "code",
   "execution_count": null,
   "metadata": {
    "collapsed": false
   },
   "outputs": [],
   "source": [
    "#if we want several conditions to be checked independently we need to use two ifs\n",
    "greeting = 'Ola'\n",
    "#don't get confused by the variable name. Python is looking whether the string stored inside \n",
    "#the VARIABLE greeting contains an e (Ola, so no -> False)\n",
    "if 'e' not in greeting:\n",
    "    print('no e found')\n",
    "if 'a' in greeting:\n",
    "    print('a found')\n",
    "    \n",
    "print(\"vs.\")\n",
    "\n",
    "if 'e' not in greeting:\n",
    "    print('no e found')\n",
    "elif 'a' in greeting:\n",
    "    print('a found')"
   ]
  },
  {
   "cell_type": "code",
   "execution_count": null,
   "metadata": {
    "collapsed": false
   },
   "outputs": [],
   "source": [
    "#write a statement that changes tasty food to 'Pasta' if nationality is set to 'Italian', 'Burgers' if nationality is set to \n",
    "#'American', 'Sardines' if 'Portuguese' is set and 'McDonalds' for any other nationality. If you are offended with this \n",
    "#choice add more choices and nationalities!\n",
    "tasty_food = 'Sauerkraut'\n",
    "nationality = 'German'\n",
    "#your code here\n",
    "print(tasty_food)"
   ]
  },
  {
   "cell_type": "code",
   "execution_count": null,
   "metadata": {
    "collapsed": false
   },
   "outputs": [],
   "source": [
    "#more complex boolean statement\n",
    "a = 5\n",
    "doctor_who = 'Matt Smith'\n",
    "custard = False\n",
    "fifteen = 15\n",
    "if a < 6 and doctor_who != 'Matt Smith' and custard or fifteen != 15:\n",
    "    print('You have reached the inside of the print statement. It is not bigger than the outside.')\n",
    "#change only one variable to make it print"
   ]
  },
  {
   "cell_type": "code",
   "execution_count": null,
   "metadata": {
    "collapsed": false
   },
   "outputs": [],
   "source": [
    "#nested ifs\n",
    "year = 2014\n",
    "no_message = \"is not a leap year\" #if you use something more than once (like a constant or a filename) make it a variable!\n",
    "yes_message = \"is a leap year\"    #it'll save you from having to change the value in different places! Very important!\n",
    "if year % 4 == 0:\n",
    "    if year % 100 != 0:\n",
    "        print(year, yes_message)\n",
    "    else:\n",
    "        if year % 400 == 0:\n",
    "            print(year, yes_message)\n",
    "        else:\n",
    "            print(year, no_message)\n",
    "else:\n",
    "    print(year, no_message)"
   ]
  },
  {
   "cell_type": "code",
   "execution_count": null,
   "metadata": {
    "collapsed": false
   },
   "outputs": [],
   "source": [
    "#does the same, choose whichever makes more sense to you in a particular case\n",
    "if year % 4 == 0 and year % 100 != 0:\n",
    "    print(year, yes_message)\n",
    "if year % 4 == 0 and year % 100 == 0 and year % 400 == 0:\n",
    "    print(year, yes_message)\n",
    "if year % 4 == 0 and year % 100 == 0 and year % 400 != 0:\n",
    "    print(year, no_message)\n",
    "if year % 4 != 0:\n",
    "    print(year, no_message)"
   ]
  },
  {
   "cell_type": "markdown",
   "metadata": {},
   "source": [
    "#### Why python is weird"
   ]
  },
  {
   "cell_type": "markdown",
   "metadata": {},
   "source": [
    "You have probably noticed that python has this funny thing about indentation. Other programming languages use curly braces to indicate which bits of code belong together. Python is big on 'style' and things looking pretty and readability and that kind of jazz so the developers said: 'People write really messy code, so how about we *force* them to write readable code?'\n",
    "\n",
    "So in python, we use indentation to tell python which bits of code belong to, say, an if statement. See examples below!"
   ]
  },
  {
   "cell_type": "code",
   "execution_count": null,
   "metadata": {
    "collapsed": false
   },
   "outputs": [],
   "source": [
    "my_bool = False\n",
    "if my_bool:\n",
    "    print('Stuff')\n",
    "    print('other stuff')"
   ]
  },
  {
   "cell_type": "markdown",
   "metadata": {},
   "source": [
    "compare to"
   ]
  },
  {
   "cell_type": "code",
   "execution_count": null,
   "metadata": {
    "collapsed": false
   },
   "outputs": [],
   "source": [
    "my_bool = False\n",
    "if my_bool:\n",
    "    print('Stuff')\n",
    "print('other stuff')"
   ]
  },
  {
   "cell_type": "markdown",
   "metadata": {},
   "source": [
    "Indentation should be with 4 spaces. It is possible to use tabs instead, but don't do it. Especially don't mix tabs and spaces! Good python editors let you use the tab key but internally turn it into spaces. Best of both worlds! (Get a good editor!)"
   ]
  },
  {
   "cell_type": "markdown",
   "metadata": {},
   "source": [
    "### Loops"
   ]
  },
  {
   "cell_type": "markdown",
   "metadata": {},
   "source": [
    "Loops allow you to do the same thing multiple times."
   ]
  },
  {
   "cell_type": "markdown",
   "metadata": {},
   "source": [
    "#### for loop"
   ]
  },
  {
   "cell_type": "code",
   "execution_count": null,
   "metadata": {
    "collapsed": false,
    "scrolled": true
   },
   "outputs": [],
   "source": [
    "how_many_times = 10\n",
    "for i in range(how_many_times):\n",
    "    print(\"Hello\")"
   ]
  },
  {
   "cell_type": "code",
   "execution_count": null,
   "metadata": {
    "collapsed": false
   },
   "outputs": [],
   "source": [
    "#in python you can easily loop over all kinds of things: lists\n",
    "animals = ['Python', 'Capybara', 'Naked mole rat', 'Cobra', 'Monkey', 'Anaconda', 'Cat', 'Horse', 'Narwhal', 'Chicken']\n",
    "for animal in animals:\n",
    "    print(animal)"
   ]
  },
  {
   "cell_type": "code",
   "execution_count": null,
   "metadata": {
    "collapsed": false
   },
   "outputs": [],
   "source": [
    "#strings\n",
    "word = \"Wolpertinger\"\n",
    "for letter in word:\n",
    "    print(letter)"
   ]
  },
  {
   "cell_type": "code",
   "execution_count": null,
   "metadata": {
    "collapsed": false
   },
   "outputs": [],
   "source": [
    "#fix the error\n",
    "foods = ['apple', 'pear', 'plum']\n",
    "for food in foods:\n",
    "print('food'.upper())"
   ]
  },
  {
   "cell_type": "code",
   "execution_count": null,
   "metadata": {
    "collapsed": false
   },
   "outputs": [],
   "source": [
    "#we can do more exciting stuff within the loop\n",
    "#like an if statement\n",
    "animals = ['Python', 'Capybara', 'Naked mole rat', 'Cobra', 'Monkey', 'Anaconda', 'Cat', 'Horse', 'Narwhal', 'Chicken', 'Badger']\n",
    "snakes = ['Python', 'Anaconda', 'Cobra']\n",
    "for animal in animals:\n",
    "    if animal in snakes:\n",
    "        print(\"Snaaaaaake, it's a snaaaaake\")\n",
    "    else:\n",
    "        print(animal)"
   ]
  },
  {
   "cell_type": "code",
   "execution_count": null,
   "metadata": {
    "collapsed": false
   },
   "outputs": [],
   "source": [
    "#write a loop that loops through the animal list and prints the animal name\n",
    "#and prints \"My favourite animal is: animal\"for an animal (or several animals of your choice)\n",
    "#and prints \"I don't like: animal\"for another animal (or several animals of your choice)\n",
    "\n",
    "#your code"
   ]
  },
  {
   "cell_type": "code",
   "execution_count": null,
   "metadata": {
    "collapsed": false
   },
   "outputs": [],
   "source": [
    "#or another loop\n",
    "for animal in animals:\n",
    "    for letter in animal:\n",
    "        print(letter, \"-\", end=\"\", sep=\"\") #what do end and sep do again?"
   ]
  },
  {
   "cell_type": "code",
   "execution_count": null,
   "metadata": {
    "collapsed": false
   },
   "outputs": [],
   "source": [
    "#or another loop and an if statement\n",
    "for animal_1 in animals:\n",
    "    for animal_2 in animals:\n",
    "        if animal_1 != animal_2: #we can't let the animal fight itself obviously...\n",
    "            print(\"{} vs. {}\".format(animal_1, animal_2))\n",
    "#when you see the results, imagine typing all of that by hand... That's why loops are great!"
   ]
  },
  {
   "cell_type": "code",
   "execution_count": null,
   "metadata": {
    "collapsed": false
   },
   "outputs": [],
   "source": [
    "#another numerical loop example\n",
    "sum = 0\n",
    "up_to = 10\n",
    "for i in range(0,up_to):\n",
    "    print(i, end=\" \")\n",
    "    sum += i #equivalent to sum = sum + i, saves you typing when using long variable names. Also works with -, * and /\n",
    "    if i < up_to - 1 :\n",
    "        print(\"+\", end=\" \")\n",
    "    else:\n",
    "        print(\"=\", end=\" \")\n",
    "print(sum)"
   ]
  },
  {
   "cell_type": "code",
   "execution_count": null,
   "metadata": {
    "collapsed": false
   },
   "outputs": [],
   "source": [
    "#inner loop depending on outer loop\n",
    "for i in range(0,10):\n",
    "    for j in range(0,i):\n",
    "        print(\"x\", end=\"\")\n",
    "    print() #move this to align with the other print. What happens?"
   ]
  },
  {
   "cell_type": "markdown",
   "metadata": {},
   "source": [
    "#### loop with index"
   ]
  },
  {
   "cell_type": "code",
   "execution_count": null,
   "metadata": {
    "collapsed": false
   },
   "outputs": [],
   "source": [
    "#loop over list where we also want an index\n",
    "my_list_of_things = [\"Toothbrush\", \"Knitting needles\", \"Hoover\", \"Sleeping bag\", \"Computer\", \"Grammophone\"]\n",
    "for index, item in enumerate(my_list_of_things):\n",
    "    print(\"Item number {}: {}\".format(index, item))"
   ]
  },
  {
   "cell_type": "code",
   "execution_count": null,
   "metadata": {
    "collapsed": false
   },
   "outputs": [],
   "source": [
    "number_list = list(range(10))\n",
    "for index, number in enumerate(number_list):\n",
    "    if index < 9:\n",
    "        print(\"{} + {} = {}\".format(number, number_list[index+1], number+number_list[index+1]))\n",
    "#try removing the if statement. What happens?"
   ]
  },
  {
   "cell_type": "code",
   "execution_count": null,
   "metadata": {
    "collapsed": false
   },
   "outputs": [],
   "source": [
    "#write a loop that loops over a string and tells you the position of a letter together with the letter\n",
    "#print 1 for the first position and not the confusing 0 that python uses \n",
    "#(even though python will refer to it as 0)"
   ]
  },
  {
   "cell_type": "markdown",
   "metadata": {},
   "source": [
    "#### break and continue"
   ]
  },
  {
   "cell_type": "code",
   "execution_count": null,
   "metadata": {
    "collapsed": false
   },
   "outputs": [],
   "source": [
    "#using break you can exit a loop prematurely\n",
    "a_list_of_numbers = [1, 43, 67, 80, 53, 22, 78, 91, 2, 14, 63, 24]\n",
    "my_sum = 0\n",
    "for number in a_list_of_numbers:\n",
    "    my_sum += number\n",
    "    if my_sum > 200:\n",
    "        i_do_nothing_really = True\n",
    "        break\n",
    "print(my_sum)\n",
    "#comment out the break and see what happens"
   ]
  },
  {
   "cell_type": "code",
   "execution_count": null,
   "metadata": {
    "collapsed": false
   },
   "outputs": [],
   "source": [
    "#using continue: jumps to the next interation of the loop\n",
    "some_animals = ['cat', 'dog', 'cow', 'pig', 'giraffe', 'goat', 'sheep', 'lion']\n",
    "zoo_animals = ['giraffe', 'lion']\n",
    "for animal in some_animals:\n",
    "    print(animal)\n",
    "    if animal in zoo_animals:\n",
    "        continue\n",
    "    print('on my farm: check')\n",
    "#change the code so that it prints: 'Nonsense' when the first zoo animal is found and then stops the loop "
   ]
  },
  {
   "cell_type": "code",
   "execution_count": null,
   "metadata": {
    "collapsed": false
   },
   "outputs": [],
   "source": [
    "for i in range(10):\n",
    "    if i % 3 == 0:\n",
    "        continue\n",
    "    print(i)"
   ]
  },
  {
   "cell_type": "markdown",
   "metadata": {},
   "source": [
    "#### while loop"
   ]
  },
  {
   "cell_type": "markdown",
   "metadata": {},
   "source": [
    "The while loop isn't used very often in python because the for loop is just too powerful and can do almost everything better. The while loop is mostly used for reading files and waiting for user input.\n",
    "\n",
    "We will use it later, but for now just a little example for the syntax:"
   ]
  },
  {
   "cell_type": "code",
   "execution_count": null,
   "metadata": {
    "collapsed": false
   },
   "outputs": [],
   "source": [
    "number = 1\n",
    "while number < 2043953:\n",
    "    number *= 2\n",
    "print(number)"
   ]
  },
  {
   "cell_type": "markdown",
   "metadata": {},
   "source": [
    "#### **EXTRA:** list comprehension - if you have time or for checking out at home"
   ]
  },
  {
   "cell_type": "markdown",
   "metadata": {},
   "source": [
    "List comprehension is very useful! We won't do much with it here but it's a pretty powerful thing, so I'll mention it just so you know what to google for if you ever need it."
   ]
  },
  {
   "cell_type": "code",
   "execution_count": null,
   "metadata": {
    "collapsed": false
   },
   "outputs": [],
   "source": [
    "#we want a list that is basically the same as another list, but somehow transformed\n",
    "list_a = list(range(6))\n",
    "list_a"
   ]
  },
  {
   "cell_type": "code",
   "execution_count": null,
   "metadata": {
    "collapsed": false
   },
   "outputs": [],
   "source": [
    "list_b = [x**2 for x in list_a]\n",
    "list_b"
   ]
  },
  {
   "cell_type": "code",
   "execution_count": null,
   "metadata": {
    "collapsed": false
   },
   "outputs": [],
   "source": [
    "#equivalent to\n",
    "list_b = []\n",
    "for x in list_a:\n",
    "    list_b.append(x**2)\n",
    "list_b\n",
    "#but kind of neater and much shorter"
   ]
  },
  {
   "cell_type": "code",
   "execution_count": null,
   "metadata": {
    "collapsed": false
   },
   "outputs": [],
   "source": [
    "string_list = [\"words\", \"things\", \"names\", \"places\", \"rivers\", \"countries\"]\n",
    "shouty_list = [word.upper() for word in string_list]\n",
    "print(shouty_list)\n",
    "singular_list = [word.strip('s') for word in string_list]\n",
    "print(singular_list)\n",
    "#we can use if as well\n",
    "singular_list = [word.strip('s') for word in string_list if word != 'countries']\n",
    "print(singular_list)"
   ]
  },
  {
   "cell_type": "code",
   "execution_count": null,
   "metadata": {
    "collapsed": false
   },
   "outputs": [],
   "source": [
    "#simple filter\n",
    "more_numbers = list(range(20))\n",
    "filtered_numbers = [x for x in more_numbers if (x%4 != 0 and x%7 != 0 and x%9 != 0)]\n",
    "filtered_numbers"
   ]
  },
  {
   "cell_type": "code",
   "execution_count": null,
   "metadata": {
    "collapsed": false
   },
   "outputs": [],
   "source": [
    "#a simple string transformation\n",
    "song = \"I like to eat, eat, eat apples and bananas.\"\n",
    "changed_song = [letter if letter != 'a' else \"oo\" for letter in song]\n",
    "#returns a list so we need to turn it into a string again\n",
    "\"\".join(str(i) for i in changed_song)"
   ]
  },
  {
   "cell_type": "markdown",
   "metadata": {},
   "source": [
    "I find the syntax of list comprehensions a bit confusing sometimes, so I generally only use them for very simple transformations (such as log-scaling a list of numbers) but at least for that they are great."
   ]
  },
  {
   "cell_type": "markdown",
   "metadata": {},
   "source": [
    "### Data Structures"
   ]
  },
  {
   "cell_type": "markdown",
   "metadata": {},
   "source": [
    "Lists are pretty cool but there are other exciting data structures in python:"
   ]
  },
  {
   "cell_type": "markdown",
   "metadata": {},
   "source": [
    "#### Dictionaries"
   ]
  },
  {
   "cell_type": "code",
   "execution_count": null,
   "metadata": {
    "collapsed": false
   },
   "outputs": [],
   "source": [
    "#dictionaries are a very useful way of doing mappings\n",
    "age = {} #curly braces create an empty dictionary\n",
    "#now well set the age for the people we know the age for\n",
    "age[\"Jenny\"] = 27\n",
    "age[\"Scott\"] = 25\n",
    "age[\"Maria\"] = 49\n",
    "\n",
    "print(age[\"Jenny\"])"
   ]
  },
  {
   "cell_type": "code",
   "execution_count": null,
   "metadata": {
    "collapsed": false
   },
   "outputs": [],
   "source": [
    "#dictionaries store key-value pairs\n",
    "#using the in keyword we can check whether a certain key exists in the dictionary\n",
    "print(\"Jenny\" in age)\n",
    "print(\"John\" in age)"
   ]
  },
  {
   "cell_type": "code",
   "execution_count": null,
   "metadata": {
    "collapsed": false
   },
   "outputs": [],
   "source": [
    "#we can update the age for a person like this\n",
    "print(age)\n",
    "age[\"Scott\"] = 52\n",
    "print(age)"
   ]
  },
  {
   "cell_type": "code",
   "execution_count": null,
   "metadata": {
    "collapsed": false
   },
   "outputs": [],
   "source": [
    "#we can initialise a dictionary using the syntax used by print to show the dictionary\n",
    "nationality = {'Elisabeth': 'German', 'Carla': 'Greek'}"
   ]
  },
  {
   "cell_type": "code",
   "execution_count": null,
   "metadata": {
    "collapsed": false
   },
   "outputs": [],
   "source": [
    "#add your own nationality and some other people's nationalities (in this field! Don't mess with the cell above!)\n",
    "#correct Carla's nationality"
   ]
  },
  {
   "cell_type": "code",
   "execution_count": null,
   "metadata": {
    "collapsed": false
   },
   "outputs": [],
   "source": [
    "#we can delete entries as well\n",
    "print(age)\n",
    "del age['Scott']\n",
    "print(age)\n",
    "#run this command once and look at the result\n",
    "#run it again, what happens now?\n",
    "#how could we avoid that?"
   ]
  },
  {
   "cell_type": "code",
   "execution_count": null,
   "metadata": {
    "collapsed": false
   },
   "outputs": [],
   "source": [
    "#Um, can you tell I wrote some of these tutorials just before lunch?\n",
    "is_vegetarian = {'Hotdog': False, 'Schweinebraten': False, 'Tofu steak': True, 'Burger': False, 'Bangers and mash': False, 'Quorn': True}\n",
    "#get only keys\n",
    "print(list(is_vegetarian.keys()))\n",
    "#only values\n",
    "print(list(is_vegetarian.values()))\n",
    "#keys and values as tuples\n",
    "print(list(is_vegetarian.items()))"
   ]
  },
  {
   "cell_type": "code",
   "execution_count": null,
   "metadata": {
    "collapsed": false
   },
   "outputs": [],
   "source": [
    "#we can easily loop through a dictionary\n",
    "for key in is_vegetarian:\n",
    "    print(is_vegetarian[key])"
   ]
  },
  {
   "cell_type": "code",
   "execution_count": null,
   "metadata": {
    "collapsed": false
   },
   "outputs": [],
   "source": [
    "#nicer loop\n",
    "for key in is_vegetarian:\n",
    "    answer = is_vegetarian[key]\n",
    "    print('Is the food \"{food}\" vegetarian? {answer}'.format(food=key, answer=answer))"
   ]
  },
  {
   "cell_type": "code",
   "execution_count": null,
   "metadata": {
    "collapsed": false
   },
   "outputs": [],
   "source": [
    "#change the loop so that it says\n",
    "#x is vegetarian or\n",
    "#x is not vegetarian\n",
    "#based on the value in the dictionary\n",
    "for key in is_vegetarian:\n",
    "    print(\"{} is vegetarian? {}\".format(key, is_vegetarian[key]))"
   ]
  },
  {
   "cell_type": "code",
   "execution_count": null,
   "metadata": {
    "collapsed": false
   },
   "outputs": [],
   "source": [
    "#a snippet I use frequently (e.g. for counting things)\n",
    "lunch_choices = [\"cheese sandwich\", \"cheese sandwich\", \"lasagna\", \"lasagna\", \"cheese sandwich\", \"cheese sandwich\", \n",
    "                 \"ham and cheese sandwich\", \"cheese sandwich\", \"pizza\", \"cheese sandwich\", \"cheese sandwich\", \n",
    "                 \"nothing\", \"cheese sandwich\"]\n",
    "lunch_counts = {}\n",
    "for choice in lunch_choices:\n",
    "    if choice not in lunch_counts: #check whether we have encountered this value before\n",
    "        lunch_counts[choice] = 0   #if not create an entry\n",
    "    lunch_counts[choice] += 1      #increase by one (either another one: x+1 or first one: 0+1)\n",
    "\n",
    "for found_choice in lunch_counts:\n",
    "    print(found_choice, \":\", lunch_counts[found_choice])"
   ]
  },
  {
   "cell_type": "markdown",
   "metadata": {},
   "source": [
    "**An important note:**\n",
    "\n",
    "## _As opposed to lists, we can't rely on the order of the entries in the dictionary!!!!!_"
   ]
  },
  {
   "cell_type": "markdown",
   "metadata": {},
   "source": [
    "## Extra bits to look at at home"
   ]
  },
  {
   "cell_type": "markdown",
   "metadata": {},
   "source": [
    "#### Sets"
   ]
  },
  {
   "cell_type": "code",
   "execution_count": null,
   "metadata": {
    "collapsed": false
   },
   "outputs": [],
   "source": [
    "#sets are useful if we want a list without duplicates\n",
    "set_of_numbers = set() #creates an empty set\n",
    "print(set_of_numbers)\n",
    "set_of_numbers.add(5)\n",
    "print(set_of_numbers)\n",
    "set_of_numbers.add(25)\n",
    "set_of_numbers.add(4)\n",
    "set_of_numbers.add(2)\n",
    "set_of_numbers.add(67)\n",
    "set_of_numbers.add(13)\n",
    "print(set_of_numbers)\n",
    "set_of_numbers.add(13) #if we add a number twice, it will be only once in the set\n",
    "print(set_of_numbers)"
   ]
  },
  {
   "cell_type": "code",
   "execution_count": null,
   "metadata": {
    "collapsed": false
   },
   "outputs": [],
   "source": [
    "#remove elements\n",
    "set_of_numbers.remove(13)\n",
    "print(set_of_numbers)\n",
    "#try and run this command again"
   ]
  },
  {
   "cell_type": "code",
   "execution_count": null,
   "metadata": {
    "collapsed": false
   },
   "outputs": [],
   "source": [
    "#other useful things to do with sets\n",
    "print(5 in set_of_numbers)\n",
    "print(5 not in set_of_numbers)"
   ]
  },
  {
   "cell_type": "code",
   "execution_count": null,
   "metadata": {
    "collapsed": false
   },
   "outputs": [],
   "source": [
    "#and set operations\n",
    "set1 = set([4, 5, 6, 7])\n",
    "set2 = set([1, 2, 3, 4, 5])\n",
    "print(set1.union(set2))\n",
    "print(set1.intersection(set2))"
   ]
  },
  {
   "cell_type": "code",
   "execution_count": null,
   "metadata": {
    "collapsed": false
   },
   "outputs": [],
   "source": [
    "#find the unique elements in a list\n",
    "my_list = [1, 4, 6, 3, 2, 1, 4, 1, 5, 1]\n",
    "print(my_list)\n",
    "print(sorted(my_list))\n",
    "uniques = set(my_list)\n",
    "print(uniques)"
   ]
  },
  {
   "cell_type": "markdown",
   "metadata": {},
   "source": [
    "#### Extra: Tuples"
   ]
  },
  {
   "cell_type": "markdown",
   "metadata": {},
   "source": [
    "Tuples are like lists but they are smaller (take up less space in memory) and they can't be changed (called immutable)."
   ]
  },
  {
   "cell_type": "code",
   "execution_count": null,
   "metadata": {
    "collapsed": false
   },
   "outputs": [],
   "source": [
    "my_first_tuple = (15, 90)"
   ]
  },
  {
   "cell_type": "code",
   "execution_count": null,
   "metadata": {
    "collapsed": false
   },
   "outputs": [],
   "source": [
    "#can access it using [] like a list\n",
    "my_first_tuple[0]"
   ]
  },
  {
   "cell_type": "code",
   "execution_count": null,
   "metadata": {
    "collapsed": false
   },
   "outputs": [],
   "source": [
    "#but we can't change it\n",
    "my_first_tuple[0] = 4\n",
    "#look how useful python is with its error messages :-)"
   ]
  },
  {
   "cell_type": "code",
   "execution_count": null,
   "metadata": {
    "collapsed": false
   },
   "outputs": [],
   "source": [
    "#note that not the parentheses tell python that it is a tuple but the , !\n",
    "#this can be slightly confusing when generating tuples that only contain one element\n",
    "firstone = 1,\n",
    "secondone = (1,)\n",
    "notwhatwewanted = (1) #not a tuple!\n",
    "emptyone = () #but this is an empty tuple (and no commas in sight!), sometimes, python, sometimes... WHY?!?\n",
    "trailingcommaoptional = (1,2,)\n",
    "print(firstone)\n",
    "print(secondone)\n",
    "print(notwhatwewanted)\n",
    "print(emptyone)\n",
    "print(trailingcommaoptional)"
   ]
  },
  {
   "cell_type": "code",
   "execution_count": null,
   "metadata": {
    "collapsed": false
   },
   "outputs": [],
   "source": [
    "#tuples can be heterogeneous\n",
    "hetero_tuple = ('not a number', 20)"
   ]
  },
  {
   "cell_type": "markdown",
   "metadata": {},
   "source": [
    "#### EXTRA: Tuple unpacking"
   ]
  },
  {
   "cell_type": "code",
   "execution_count": null,
   "metadata": {
    "collapsed": false
   },
   "outputs": [],
   "source": [
    "#python does this really cool thing called tuple unpacking\n",
    "#instead of:\n",
    "my_tuple = ('a', 'b')\n",
    "a = my_tuple[0]\n",
    "b = my_tuple[1]\n",
    "print(a, b)"
   ]
  },
  {
   "cell_type": "code",
   "execution_count": null,
   "metadata": {
    "collapsed": false
   },
   "outputs": [],
   "source": [
    "#we can write\n",
    "my_tuple = ('a', 'b')\n",
    "a, b = my_tuple\n",
    "print(a, b)"
   ]
  },
  {
   "cell_type": "code",
   "execution_count": null,
   "metadata": {
    "collapsed": false
   },
   "outputs": [],
   "source": [
    "#it also allows us to easily swap the values of two variables without having to create an extra variable\n",
    "a = 5\n",
    "b = 200\n",
    "print(a, b)\n",
    "b, a = a, b #this creates a tuple on the right side and then unpacks that tuple into the variables on the left\n",
    "print(a, b)"
   ]
  },
  {
   "cell_type": "code",
   "execution_count": null,
   "metadata": {
    "collapsed": false
   },
   "outputs": [],
   "source": [
    "#it works for lists as well\n",
    "i_am_a_package = [1, 2, 4, 7]\n",
    "nr1, nr2, nr4, nr7 = i_am_a_package\n",
    "print(nr1, nr2, nr4, nr7)"
   ]
  },
  {
   "cell_type": "code",
   "execution_count": null,
   "metadata": {
    "collapsed": false
   },
   "outputs": [],
   "source": [
    "nr1, nr2, nr4, nr7, nr9 = i_am_a_package #what's the issue here?"
   ]
  },
  {
   "cell_type": "code",
   "execution_count": null,
   "metadata": {
    "collapsed": false
   },
   "outputs": [],
   "source": [
    "#it's very useful for text processing\n",
    "pretend_this_is_a_text_file = (\"54545323,453,5pm\\n\"\n",
    "                               \"653534,622,6pm\\n\"\n",
    "                               \"7840254,411,7pm\")\n",
    "lines = pretend_this_is_a_text_file.split(\"\\n\")\n",
    "for line in lines:\n",
    "    id_nr, thing, thing2 = line.split(\",\")\n",
    "    print(id_nr)"
   ]
  },
  {
   "cell_type": "code",
   "execution_count": null,
   "metadata": {
    "collapsed": false
   },
   "outputs": [],
   "source": [
    "#in python 3 you can do partial unpacking\n",
    "i_am_a_package = [1, 2, 4, 7]\n",
    "first_number, *rest = i_am_a_package \n",
    "print(first_number, rest)"
   ]
  },
  {
   "cell_type": "markdown",
   "metadata": {},
   "source": [
    "#### EXTRA: named tuples"
   ]
  },
  {
   "cell_type": "markdown",
   "metadata": {},
   "source": [
    "Named tuples are a slightly hacky way of using names instead of number to access tuple components. They are good though because they can help us avoid making mistakes!"
   ]
  },
  {
   "cell_type": "code",
   "execution_count": null,
   "metadata": {
    "collapsed": false
   },
   "outputs": [],
   "source": [
    "#normal tuples\n",
    "coordinates = [('London', 51.50939, -0.11832),('Southampton', 50.9, -1.4), ('Winchester',51.0632, -1.308), ('Amazingstoke',51.2667, -1.0876)]\n",
    "for place in coordinates:\n",
    "    print(place[1]) #it's easy to get confused about which number is lat and which is lon"
   ]
  },
  {
   "cell_type": "code",
   "execution_count": null,
   "metadata": {
    "collapsed": false
   },
   "outputs": [],
   "source": [
    "#named tuples\n",
    "from collections import namedtuple\n",
    "Place = namedtuple('Place', 'name lat lon') #weird syntax, because it is an addition and not a core language component\n",
    "coordinates = [Place('London', 51.50939, -0.11832), Place('Southampton', 50.9, -1.4), Place('Winchester',51.0632, -1.308), Place('Amazingstoke',51.2667, -1.0876)]\n",
    "for place in coordinates:\n",
    "    print(place.lat) #now we can address it by name"
   ]
  },
  {
   "cell_type": "markdown",
   "metadata": {},
   "source": [
    "#### EXTRA: Advanced sorting"
   ]
  },
  {
   "cell_type": "code",
   "execution_count": null,
   "metadata": {
    "collapsed": false
   },
   "outputs": [],
   "source": [
    "#sorting tuples\n",
    "tuplelist = [(5,'q'), (543534, 'b'), (54,'e'), (787,'d'), (54, 'c')]\n",
    "print(sorted(tuplelist))\n",
    "print(sorted(tuplelist, reverse=True))\n",
    "print(sorted(tuplelist, reverse=True)[:3]) #top 3"
   ]
  },
  {
   "cell_type": "code",
   "execution_count": null,
   "metadata": {
    "collapsed": false
   },
   "outputs": [],
   "source": [
    "#by default, tuples are sorted based on the first position and then the second, etc.\n",
    "#we can also specify which position to use for sorting\n",
    "long_tuples = [('a', 14345, 54), ('x', 354, 8), ('w', 90851, 3), ('s', 5785, 2)]\n",
    "print(sorted(long_tuples, key=lambda x: x[1]))\n",
    "print(sorted(long_tuples, key=lambda x: x[2]))"
   ]
  },
  {
   "cell_type": "markdown",
   "metadata": {},
   "source": [
    "Dictionaries are unsorted, meaning we can't rely on a particular order of the objects. We also can't just do sort on the dictionary, because it doesn't know what an order is. We can do various sort related things with dictionaries though."
   ]
  },
  {
   "cell_type": "code",
   "execution_count": null,
   "metadata": {
    "collapsed": false
   },
   "outputs": [],
   "source": [
    "my_dict = {'a': 100, 'b': 10, 'd': 1000, 'c': 10000}"
   ]
  },
  {
   "cell_type": "code",
   "execution_count": null,
   "metadata": {
    "collapsed": false
   },
   "outputs": [],
   "source": [
    "#sorting by keys: easy\n",
    "for key in sorted(my_dict.keys()):\n",
    "    print(key)"
   ]
  },
  {
   "cell_type": "code",
   "execution_count": null,
   "metadata": {
    "collapsed": false
   },
   "outputs": [],
   "source": [
    "#sorting by value\n",
    "sorted(my_dict.items(), key=lambda x:x[1]) #using some tricks learned above: turn dictionary into list of tuples, sort that"
   ]
  },
  {
   "cell_type": "code",
   "execution_count": null,
   "metadata": {
    "collapsed": false
   },
   "outputs": [],
   "source": [
    "#top 2 entries by value\n",
    "sorted(my_dict.items(), key=lambda x:x[1], reverse=True)[:2]"
   ]
  },
  {
   "cell_type": "code",
   "execution_count": null,
   "metadata": {
    "collapsed": false
   },
   "outputs": [],
   "source": [
    "#get the maximum key from a dictionary\n",
    "max(my_dict.keys())"
   ]
  },
  {
   "cell_type": "code",
   "execution_count": null,
   "metadata": {
    "collapsed": false
   },
   "outputs": [],
   "source": [
    "#get the key of maximum value from a dictionary\n",
    "max(my_dict, key=my_dict.get) #try min"
   ]
  }
 ],
 "metadata": {
  "kernelspec": {
   "display_name": "Python 3",
   "language": "python",
   "name": "python3"
  },
  "language_info": {
   "codemirror_mode": {
    "name": "ipython",
    "version": 3
   },
   "file_extension": ".py",
   "mimetype": "text/x-python",
   "name": "python",
   "nbconvert_exporter": "python",
   "pygments_lexer": "ipython3",
   "version": "3.4.3"
  }
 },
 "nbformat": 4,
 "nbformat_minor": 0
}
