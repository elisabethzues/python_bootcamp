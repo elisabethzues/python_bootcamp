{
 "cells": [
  {
   "cell_type": "markdown",
   "metadata": {},
   "source": [
    "# Basics"
   ]
  },
  {
   "cell_type": "markdown",
   "metadata": {},
   "source": [
    "### Run a box by clicking into a box and pressing shift+enter."
   ]
  },
  {
   "cell_type": "markdown",
   "metadata": {},
   "source": [
    "**Python is case-sensitive**\n",
    "\n",
    "Try the following\n",
    "- change hello_world to hello_World in the print statement\n",
    "- change it to Hello_World"
   ]
  },
  {
   "cell_type": "code",
   "execution_count": null,
   "metadata": {
    "collapsed": true
   },
   "outputs": [],
   "source": [
    "hello_world = \"Hello\" #here we are assigning a value to a variable\n",
    "hello_World = \"Yo\"\n",
    "print(hello_world)"
   ]
  },
  {
   "cell_type": "markdown",
   "metadata": {},
   "source": [
    "There are some restrictions on variable names.\n",
    "- Need to start with a letter (or underscore? Try that!)\n",
    "- Can consist of letters and some special characters (like underscore)\n",
    "- Can be a mix of upper and lower case\n",
    "- Are not allowed to be special names (like for or range)"
   ]
  },
  {
   "cell_type": "code",
   "execution_count": null,
   "metadata": {
    "collapsed": true
   },
   "outputs": [],
   "source": [
    "#fix me!!!\n",
    "one = 1\n",
    "two = 2\n",
    "one_two = 3\n",
    "one-Two = 4"
   ]
  },
  {
   "cell_type": "markdown",
   "metadata": {},
   "source": [
    "### Some simple maths"
   ]
  },
  {
   "cell_type": "markdown",
   "metadata": {},
   "source": [
    "**Calculate:**\n",
    "- 11+31 and assign the result to a variable called *the_answer*\n",
    "- 14/2 and assign the result to a variable called *seven*\n",
    "- 3\\*3 + 14 and print to output the result\n",
    "- 18%3 and 18%4 and do whatever you like with the result"
   ]
  },
  {
   "cell_type": "code",
   "execution_count": null,
   "metadata": {
    "collapsed": false
   },
   "outputs": [],
   "source": [
    "#calculate stuff here. I am a comment by the way cause I have a #."
   ]
  },
  {
   "cell_type": "code",
   "execution_count": null,
   "metadata": {
    "collapsed": false
   },
   "outputs": [],
   "source": [
    "result = 2 + 4 * 3 #python respects mathematical rules!\n",
    "print(result)\n",
    "print((2 + 4) * 3)"
   ]
  },
  {
   "cell_type": "code",
   "execution_count": null,
   "metadata": {
    "collapsed": false
   },
   "outputs": [],
   "source": [
    "3 ** 3"
   ]
  },
  {
   "cell_type": "code",
   "execution_count": null,
   "metadata": {
    "collapsed": false
   },
   "outputs": [],
   "source": [
    "#with programming languages you have to be careful with dividing integers, sometimes the result is rounded automatically!\n",
    "#try these and see what happens (it depends on your python version, there was an important change from python2 to python3)\n",
    "#from __future__ import division #if you are running python 2.x.x and want to test out python3 division, uncomment this\n",
    "print(3 / 2)\n",
    "print(3.0 / 2)\n",
    "print(3.0 / 2.0)\n",
    "print(3 // 2)\n",
    "print(7.0 / 4)\n",
    "print(7 // 4) #python always uses floor to round"
   ]
  },
  {
   "cell_type": "code",
   "execution_count": null,
   "metadata": {
    "collapsed": false
   },
   "outputs": [],
   "source": [
    "#in case you want to know what python version you are running, execute this cell.\n",
    "import sys\n",
    "print(sys.version)"
   ]
  },
  {
   "cell_type": "markdown",
   "metadata": {},
   "source": [
    "### Strings basics"
   ]
  },
  {
   "cell_type": "markdown",
   "metadata": {},
   "source": [
    "Strings are sequences of characters. Python loves strings so we can do all sorts of cool stuff with them."
   ]
  },
  {
   "cell_type": "code",
   "execution_count": null,
   "metadata": {
    "collapsed": false
   },
   "outputs": [],
   "source": [
    "a_string_contains_text = \"Like this text.\"\n",
    "print(a_string_contains_text)"
   ]
  },
  {
   "cell_type": "code",
   "execution_count": null,
   "metadata": {
    "collapsed": false
   },
   "outputs": [],
   "source": [
    "special_string_magic = \"This\\tis \\n magical!\"\n",
    "print(special_string_magic)"
   ]
  },
  {
   "cell_type": "markdown",
   "metadata": {},
   "source": [
    "Print automatically does a new line at the end, but we can add additional linebreaks into our string with \\n."
   ]
  },
  {
   "cell_type": "markdown",
   "metadata": {},
   "source": [
    "#### Don't mix up strings that are numbers and numbers!"
   ]
  },
  {
   "cell_type": "code",
   "execution_count": null,
   "metadata": {
    "collapsed": false
   },
   "outputs": [],
   "source": [
    "nr_3 = 3\n",
    "nr_4 = 4\n",
    "three = \"three\"\n",
    "four = \"4\"\n",
    "print(nr_3 + nr_4)\n",
    "print(three + four)"
   ]
  },
  {
   "cell_type": "code",
   "execution_count": null,
   "metadata": {
    "collapsed": false
   },
   "outputs": [],
   "source": [
    "print(four + nr_4) #fix me"
   ]
  },
  {
   "cell_type": "markdown",
   "metadata": {},
   "source": [
    "This is a common error. It happens because even though we know that the content of the variable *four* is a number python doesn't. So how does it know what is what?"
   ]
  },
  {
   "cell_type": "code",
   "execution_count": null,
   "metadata": {
    "collapsed": false
   },
   "outputs": [],
   "source": [
    "my_string = \"The quotes tell python I'm a string!\"\n",
    "my_string2 = 'I'm a string too but I have a problem!' #fix me\n",
    "my_string3 = \"\"\"I'm a weird\n",
    "weird\n",
    "string\n",
    "with\n",
    "linebreaks\"\"\""
   ]
  },
  {
   "cell_type": "markdown",
   "metadata": {},
   "source": [
    "Print the strings and watch how python takes everything between the quotes and makes it a string."
   ]
  },
  {
   "cell_type": "code",
   "execution_count": null,
   "metadata": {
    "collapsed": false
   },
   "outputs": [],
   "source": []
  },
  {
   "cell_type": "markdown",
   "metadata": {},
   "source": [
    "Don't confuse variable names and strings. Variables are containers for values and the value stored in them can change. A string is just a chain of letters that can be stored in a variable."
   ]
  },
  {
   "cell_type": "code",
   "execution_count": null,
   "metadata": {
    "collapsed": false
   },
   "outputs": [],
   "source": [
    "five = \"five\"\n",
    "print(five)\n",
    "five = \"six\"\n",
    "print(five)\n",
    "five = \"five was six for a bit\"\n",
    "print(five)"
   ]
  },
  {
   "cell_type": "markdown",
   "metadata": {},
   "source": [
    "*five* is a string variable (i.e. a container for a string) whereas *\"five\"* is a string literal, which means it is content (literal in nerdspeak) in a format that python knows to interpret as a string."
   ]
  },
  {
   "cell_type": "markdown",
   "metadata": {},
   "source": [
    "### String manipulation"
   ]
  },
  {
   "cell_type": "markdown",
   "metadata": {},
   "source": [
    "#### count"
   ]
  },
  {
   "cell_type": "code",
   "execution_count": null,
   "metadata": {
    "collapsed": false
   },
   "outputs": [],
   "source": [
    "river_string = \"Mississippi\"\n",
    "s_count = river_string.count('s')\n",
    "print(s_count)\n",
    "#count and print the number of p's\n",
    "#this works not only on letters but also on substrings\n",
    "#count and print the number of 'iss'es\n",
    "print(river_string.count('i',0,8)) #what does this one do?"
   ]
  },
  {
   "cell_type": "raw",
   "metadata": {},
   "source": [
    "The notation thing.action(something) means the following: do the action after the dot to the thing before the dot (as mentioned before), using additional information provided between the parentheses. Even if we don't give additional information (parameters) we still have to use the parentheses.\n",
    "Why?\n",
    "This is similar to using \"\" or '' to tell python the things between is a string. We use action() to tell python that action is an action (officially called method or function)."
   ]
  },
  {
   "cell_type": "markdown",
   "metadata": {},
   "source": [
    "#### replace"
   ]
  },
  {
   "cell_type": "code",
   "execution_count": null,
   "metadata": {
    "collapsed": false
   },
   "outputs": [],
   "source": [
    "programming_language = \"I like programming in FORTRAN\"\n",
    "programming_language.replace('FORTRAN','Python')\n",
    "#change the language to a programming language you hate\n",
    "#then change like to don't like"
   ]
  },
  {
   "cell_type": "markdown",
   "metadata": {},
   "source": [
    "### Selecting parts of a string"
   ]
  },
  {
   "cell_type": "code",
   "execution_count": null,
   "metadata": {
    "collapsed": false
   },
   "outputs": [],
   "source": [
    "number_string = \"123456789ABCD\"\n",
    "print(number_string[1]) #python starts counting from 0\n",
    "print(len(number_string)) #so a string that is 13 characters long goes from 0-13"
   ]
  },
  {
   "cell_type": "code",
   "execution_count": null,
   "metadata": {
    "collapsed": false
   },
   "outputs": [],
   "source": [
    "print(number_string[13]) #fix me"
   ]
  },
  {
   "cell_type": "code",
   "execution_count": null,
   "metadata": {
    "collapsed": false
   },
   "outputs": [],
   "source": [
    "print(number_string[-6]) #try to get the A"
   ]
  },
  {
   "cell_type": "markdown",
   "metadata": {},
   "source": [
    "You can also select a substring using :"
   ]
  },
  {
   "cell_type": "code",
   "execution_count": null,
   "metadata": {
    "collapsed": false
   },
   "outputs": [],
   "source": [
    "less_confusing_string = \"0123456789ABCD\"\n",
    "print(less_confusing_string[2:4]) #my_string([i:j]) means FROM i (inclusive) TO j (exclusive)\n",
    "print(less_confusing_string[0:6:2])\n",
    "print(less_confusing_string[8:])\n",
    "print(less_confusing_string[:8])\n",
    "print(less_confusing_string[:-4])\n",
    "print(less_confusing_string[-4:])\n",
    "print(less_confusing_string[-4:-1])\n",
    "print(less_confusing_string[-6:-1:3])"
   ]
  },
  {
   "cell_type": "raw",
   "metadata": {},
   "source": [
    "0|1|2|3|4|5|6|7|8|9|A | B| C| D\n",
    "0 1 2 3 4 5 6 7 8 9 -4 -3 -2 -1 select using [x]\n",
    "\n",
    " 0|1|2|3|4|5|6|7|8|9|A |B |C |D range select using [:]\n",
    "0 1 2 3 4 5 6 7 8 9 -4 -3 -2 -1\n",
    "    2...4                       [0:4]\n",
    "                    -4..........[-4:]\n",
    "                    -4......-1  [-4:-1]"
   ]
  },
  {
   "cell_type": "code",
   "execution_count": null,
   "metadata": {
    "collapsed": false
   },
   "outputs": [],
   "source": [
    "and_another_one = \"random_file.txt\""
   ]
  },
  {
   "cell_type": "code",
   "execution_count": null,
   "metadata": {
    "collapsed": false
   },
   "outputs": [],
   "source": [
    "# get the filename without the extension\n",
    "# get the extension without the dot\n",
    "# get the dot\n",
    "# get the 'file' bit"
   ]
  },
  {
   "cell_type": "markdown",
   "metadata": {},
   "source": [
    "### Stripping and splitting"
   ]
  },
  {
   "cell_type": "code",
   "execution_count": null,
   "metadata": {
    "collapsed": false
   },
   "outputs": [],
   "source": [
    "i_am_a_stripping_string = \"Hello, I have a linebreak\\n\"\n",
    "print(i_am_a_stripping_string)\n",
    "print(\"--------\")"
   ]
  },
  {
   "cell_type": "markdown",
   "metadata": {},
   "source": [
    "Note that this results in two linebreaks, because print automatically does a line break. If we read in lines from a file this can be annoying so we want to remove the newline command from the end."
   ]
  },
  {
   "cell_type": "code",
   "execution_count": null,
   "metadata": {
    "collapsed": false
   },
   "outputs": [],
   "source": [
    "print(i_am_a_stripping_string.strip()) #like upper, strip does not change the string but returns a changed copy \n",
    "print(\"-------------\")\n",
    "print(i_am_a_stripping_string)\n",
    "print(\"-------------\")"
   ]
  },
  {
   "cell_type": "code",
   "execution_count": null,
   "metadata": {
    "collapsed": false
   },
   "outputs": [],
   "source": [
    "#more stripping to try\n",
    "strip_1 = \"\\tHello\\n\"\n",
    "print(strip_1.strip())\n",
    "print(\"------\")\n",
    "print(strip_1.strip(\"\\n\"))\n",
    "print(\"------\")\n",
    "print(strip_1.lstrip()) #what does this one do?\n",
    "print(\"------\")\n",
    "print(strip_1.rstrip())"
   ]
  },
  {
   "cell_type": "code",
   "execution_count": null,
   "metadata": {
    "collapsed": false
   },
   "outputs": [],
   "source": [
    "#strip away just the front tab\n",
    "#make the command specific to tabs so that a newline wouldn't be stripped\n",
    "strip_2 = \"\\ttttttabs\\t\""
   ]
  },
  {
   "cell_type": "markdown",
   "metadata": {},
   "source": [
    "We can also split strings."
   ]
  },
  {
   "cell_type": "code",
   "execution_count": null,
   "metadata": {
    "collapsed": false
   },
   "outputs": [],
   "source": [
    "sentence = \"Hello programmer, welcome to the amazing world of python which is full of python.\"\n",
    "subsentences = sentence.split(\",\")\n",
    "print(\"First subsentence:\")\n",
    "print(subsentences[0])\n",
    "print(\"Second subsentence:\")\n",
    "print(subsentences[1])"
   ]
  },
  {
   "cell_type": "code",
   "execution_count": null,
   "metadata": {
    "collapsed": false
   },
   "outputs": [],
   "source": [
    "second_part = subsentences[1]\n",
    "#the second subsentence starts with a space, remove that! (strip it...)"
   ]
  },
  {
   "cell_type": "markdown",
   "metadata": {},
   "source": [
    "We can split by whatever we like."
   ]
  },
  {
   "cell_type": "code",
   "execution_count": null,
   "metadata": {
    "collapsed": false
   },
   "outputs": [],
   "source": [
    "amazingsplit = sentence.split(\"amazing\")\n",
    "print(amazingsplit)\n",
    "print(len(amazingsplit)) #what do I do?\n",
    "print(len(sentence.split(\"python\"))) #what about me?"
   ]
  },
  {
   "cell_type": "code",
   "execution_count": null,
   "metadata": {
    "collapsed": false
   },
   "outputs": [],
   "source": [
    "words = sentence.split(\" \")\n",
    "print(words)\n",
    "#the result of this is a list! So lets move on to lists..."
   ]
  },
  {
   "cell_type": "markdown",
   "metadata": {},
   "source": [
    "### Lists"
   ]
  },
  {
   "cell_type": "code",
   "execution_count": null,
   "metadata": {
    "collapsed": false
   },
   "outputs": [],
   "source": [
    "this_is_a_list = [0, 1, 2, 3, 4, 5, 6]\n",
    "print(this_is_a_list)"
   ]
  },
  {
   "cell_type": "code",
   "execution_count": null,
   "metadata": {
    "collapsed": false
   },
   "outputs": [],
   "source": [
    "print(this_is_a_list[3])\n",
    "print(this_is_a_list[1:4])\n",
    "#try the other slicing options we used above for strings, they work here too! "
   ]
  },
  {
   "cell_type": "code",
   "execution_count": null,
   "metadata": {
    "collapsed": false
   },
   "outputs": [],
   "source": [
    "#you can easily generate a list like this\n",
    "alist = list(range(6))\n",
    "print(alist)\n",
    "blist = list(range(6,9))\n",
    "print(blist)"
   ]
  },
  {
   "cell_type": "markdown",
   "metadata": {},
   "source": [
    "In python the element in the list can have different types, i.e. we can mix numbers and strings or integers and floating point numbers (more on that later)"
   ]
  },
  {
   "cell_type": "code",
   "execution_count": null,
   "metadata": {
    "collapsed": false
   },
   "outputs": [],
   "source": [
    "python_is_ok_with_this = [1, 'Hello', 2, 'Goodbye']\n",
    "and_this = [\"1\", 2, 3.0]"
   ]
  },
  {
   "cell_type": "markdown",
   "metadata": {},
   "source": [
    "### the 'in' operator"
   ]
  },
  {
   "cell_type": "code",
   "execution_count": null,
   "metadata": {
    "collapsed": false
   },
   "outputs": [],
   "source": [
    "alist = list(range(6))\n",
    "print(alist)"
   ]
  },
  {
   "cell_type": "code",
   "execution_count": null,
   "metadata": {
    "collapsed": false
   },
   "outputs": [],
   "source": [
    "5 in alist\n",
    "#try these lines\n",
    "#7 in alist\n",
    "#7 not in alist\n",
    "#not 7 in alist\n",
    "\n",
    "#what happens here if you comment out more than one line at a time? Do you understand why it happens? \n",
    "#What's the difference when putting print around each statement? If you don't understand it we can discuss it!"
   ]
  },
  {
   "cell_type": "markdown",
   "metadata": {},
   "source": [
    "Python uses True for true/yes and False for false/no. More about that later!"
   ]
  },
  {
   "cell_type": "code",
   "execution_count": null,
   "metadata": {
    "collapsed": false
   },
   "outputs": [],
   "source": [
    "#we can do the same thing with a string\n",
    "my_string = \"Abcdefg\"\n",
    "print(\"b\" in my_string)\n",
    "print(\"a\" in my_string)\n",
    "print(\"a\" not in my_string)"
   ]
  },
  {
   "cell_type": "markdown",
   "metadata": {},
   "source": [
    "#### add things"
   ]
  },
  {
   "cell_type": "code",
   "execution_count": null,
   "metadata": {
    "collapsed": false
   },
   "outputs": [],
   "source": [
    "names = [\"Alice\", \"Rodney\", \"Wallace\", \"Eva\"]\n",
    "names.append(\"Mary\") #in contrast to a_String.upper() append does change the list itself!\n",
    "print(names)\n",
    "who_are_they = ['Walter', 'Gail']\n",
    "names.extend(who_are_they) #adding more than one entry: adding a list onto another list\n",
    "print(names)"
   ]
  },
  {
   "cell_type": "code",
   "execution_count": null,
   "metadata": {
    "collapsed": false
   },
   "outputs": [],
   "source": [
    "my_list = [] #brackets means empty list. [] creates a list that we then store in my_list\n",
    "print(my_list)\n",
    "#add whatever you like to the list"
   ]
  },
  {
   "cell_type": "code",
   "execution_count": null,
   "metadata": {
    "collapsed": false
   },
   "outputs": [],
   "source": [
    "all_zeros = [0]*4\n",
    "print(all_zeros)\n",
    "all_zeros[1] = 2\n",
    "all_zeros[3] = 2\n",
    "print(all_zeros)"
   ]
  },
  {
   "cell_type": "markdown",
   "metadata": {},
   "source": [
    "#### remove elements"
   ]
  },
  {
   "cell_type": "code",
   "execution_count": null,
   "metadata": {
    "collapsed": false
   },
   "outputs": [],
   "source": [
    "names = ['Alice', 'Bob', 'Rodney', 'Wallace', 'Eva', 'Mary', 'Walter', 'Gail']\n",
    "print(names)\n",
    "names.remove('Gail') #remove a specified value\n",
    "print(names)\n",
    "names.pop(-2) #remove a certain entry specified by its index (here the second but last entry)\n",
    "print(names)\n",
    "names.pop()  #removes the last element if called without an index\n",
    "print(names)\n",
    "del names[1:3] #delete a section of the list\n",
    "print(names)"
   ]
  },
  {
   "cell_type": "markdown",
   "metadata": {},
   "source": [
    "#### count entries"
   ]
  },
  {
   "cell_type": "code",
   "execution_count": null,
   "metadata": {
    "collapsed": false
   },
   "outputs": [],
   "source": [
    "lunch_choices = [\"cheese sandwich\", \"cheese sandwich\", \"lasagna\", \"lasagna\", \"cheese sandwich\", \"cheese sandwich\", \n",
    "                 \"ham and cheese sandwich\", \"cheese sandwich\", \"pizza\", \"cheese sandwich\", \"cheese sandwich\", \n",
    "                 \"nothing\", \"cheese sandwich\"]\n",
    "print(len(lunch_choices)) #how many lunch choices are there?\n",
    "print(len(set(lunch_choices))) #number of different (or unique) choices - we'll learn more about sets later\n",
    "print(lunch_choices.count('cheese sandwich'))\n",
    "#print the fraction of choices that were 'cheese sandwich'"
   ]
  },
  {
   "cell_type": "markdown",
   "metadata": {},
   "source": [
    "#### nested lists"
   ]
  },
  {
   "cell_type": "code",
   "execution_count": null,
   "metadata": {
    "collapsed": false
   },
   "outputs": [],
   "source": [
    "#we can put lists into lists\n",
    "x_values = list(range(6))\n",
    "y_values = [0, 1, 4, 9, 16, 25]\n",
    "z_values = [2.0, 3.9, 3.4, 15.9, 18.8, 22.4]\n",
    "points_3D = [x_values, y_values]\n",
    "print(points_3D)\n",
    "points_3D.append(z_values)\n",
    "print(points_3D)\n",
    "print(points_3D[2])\n",
    "print(points_3D[0][4])\n",
    "#what command gives you 9 as a result?"
   ]
  },
  {
   "cell_type": "code",
   "execution_count": null,
   "metadata": {
    "collapsed": false
   },
   "outputs": [],
   "source": [
    "#the list before was nice and all sublists had the same length. It doesn't have to be that way!\n",
    "#python is pretty laid back. It's cool with whatever you do until you ask it to do unreasonable things.\n",
    "short_list = [1, 2]\n",
    "medium_list = [44, 23, 88, 65]\n",
    "long_list = [1000, 100, 10000, 100000000, 100000, 10, 1000000]\n",
    "mixed_list = [medium_list, short_list, long_list]\n",
    "print(mixed_list)"
   ]
  },
  {
   "cell_type": "markdown",
   "metadata": {},
   "source": [
    "#### sorting lists"
   ]
  },
  {
   "cell_type": "markdown",
   "metadata": {},
   "source": [
    "listname.sort() sorts the list in place. This means the list itself is changed and the elements are reshuffled into sorted order."
   ]
  },
  {
   "cell_type": "code",
   "execution_count": null,
   "metadata": {
    "collapsed": false
   },
   "outputs": [],
   "source": [
    "simple_list = [14, 4, 42, 54, 1000, 604]\n",
    "print(simple_list)\n",
    "simple_list.sort()\n",
    "print(simple_list)"
   ]
  },
  {
   "cell_type": "markdown",
   "metadata": {},
   "source": [
    "sorted(listname) returns a sorted copy of the list (useful if we want to keep the original version of the list)."
   ]
  },
  {
   "cell_type": "code",
   "execution_count": null,
   "metadata": {
    "collapsed": false
   },
   "outputs": [],
   "source": [
    "simple_list = [14, 4, 42, 54, 1000, 604]\n",
    "print(simple_list)\n",
    "sorted_copy_of_list = sorted(simple_list)\n",
    "print(simple_list)\n",
    "print(sorted_copy_of_list)"
   ]
  },
  {
   "cell_type": "code",
   "execution_count": null,
   "metadata": {
    "collapsed": false
   },
   "outputs": [],
   "source": [
    "simple_list = [14, 4, 42, 54, 1000, 604]\n",
    "simple_list.sort(reverse=True)\n",
    "print(simple_list)"
   ]
  },
  {
   "cell_type": "markdown",
   "metadata": {},
   "source": [
    "### Mathematical stuff"
   ]
  },
  {
   "cell_type": "code",
   "execution_count": null,
   "metadata": {
    "collapsed": false
   },
   "outputs": [],
   "source": [
    "abs(-1)"
   ]
  },
  {
   "cell_type": "code",
   "execution_count": null,
   "metadata": {
    "collapsed": false
   },
   "outputs": [],
   "source": [
    "import math\n",
    "#we can now use mathematical functions like this:\n",
    "math.sqrt(4)"
   ]
  },
  {
   "cell_type": "code",
   "execution_count": null,
   "metadata": {
    "collapsed": false,
    "scrolled": true
   },
   "outputs": [],
   "source": [
    "# e^2\n",
    "print(math.exp(2))\n",
    "print(math.log(10))\n",
    "print(math.log10(10))\n",
    "print(pow(2,3))"
   ]
  },
  {
   "cell_type": "code",
   "execution_count": null,
   "metadata": {
    "collapsed": false
   },
   "outputs": [],
   "source": [
    "math.sin(4.3) #loads more trigonometric functions available"
   ]
  },
  {
   "cell_type": "code",
   "execution_count": null,
   "metadata": {
    "collapsed": false
   },
   "outputs": [],
   "source": [
    "#constants\n",
    "print(math.e)\n",
    "print(math.pi)"
   ]
  },
  {
   "cell_type": "code",
   "execution_count": null,
   "metadata": {
    "collapsed": false
   },
   "outputs": [],
   "source": [
    "not_good = 34/0"
   ]
  },
  {
   "cell_type": "markdown",
   "metadata": {},
   "source": [
    "### Nicer print formatting"
   ]
  },
  {
   "cell_type": "markdown",
   "metadata": {},
   "source": [
    "Specify what should go at the end: (default is newline)"
   ]
  },
  {
   "cell_type": "code",
   "execution_count": null,
   "metadata": {
    "collapsed": false
   },
   "outputs": [],
   "source": [
    "from __future__ import print_function #import python3 fancy printing into python2\n",
    "#by default python puts a newline after each print statement, but we can customise that using end\n",
    "print(\"Hello python3\", end=\"\") #if we don't want a newline, we have to tell python!\n",
    "print(\"Nice to meet you\")\n",
    "print(\"Hello python3\", end=\", \")\n",
    "print(\"nice to meet you\")"
   ]
  },
  {
   "cell_type": "code",
   "execution_count": null,
   "metadata": {
    "collapsed": false
   },
   "outputs": [],
   "source": [
    "me = 'your name here'"
   ]
  },
  {
   "cell_type": "raw",
   "metadata": {},
   "source": [
    "We use the a_string.format() function for that. What it does is that it looks for curly braces in a string and uses that as a place holder and then we can specify what we want to substitute the place holder for."
   ]
  },
  {
   "cell_type": "code",
   "execution_count": null,
   "metadata": {
    "collapsed": false
   },
   "outputs": [],
   "source": [
    "\"Hello Computer, I'm {}\".format(me)"
   ]
  },
  {
   "cell_type": "markdown",
   "metadata": {},
   "source": [
    "In the example above we gave the format function a string variable. We can give it other things as well and more than one:"
   ]
  },
  {
   "cell_type": "code",
   "execution_count": null,
   "metadata": {
    "collapsed": false
   },
   "outputs": [],
   "source": [
    "'Hello {}, I\\'m {}'.format('computer', me) #string literal for first position, string variable for second"
   ]
  },
  {
   "cell_type": "code",
   "execution_count": null,
   "metadata": {
    "collapsed": false
   },
   "outputs": [],
   "source": [
    "'I have {} ears and {} toes'.format(2.0, 5+5) #change numbers as appropriate"
   ]
  },
  {
   "cell_type": "markdown",
   "metadata": {},
   "source": [
    "We can also specify numbers in the braces and then we don't even need to make sure the exact order matches."
   ]
  },
  {
   "cell_type": "code",
   "execution_count": null,
   "metadata": {
    "collapsed": false
   },
   "outputs": [],
   "source": [
    "print('I like {}'.format('bananas'))\n",
    "print('I like {1} and {0}'.format('bananas', 'apples'))\n",
    "print('I like {0} and {1}'.format('bananas', 'apples'))\n",
    "print('I like {1} and {1}'.format('bananas', 'apples')) # look closely! Where did the bananas go?\n",
    "# or even name them so the positions don't matter\n",
    "print('I like {fruit} and {vegetables}'.format(vegetables='carrots', fruit='bananas'))"
   ]
  },
  {
   "cell_type": "code",
   "execution_count": null,
   "metadata": {
    "collapsed": false
   },
   "outputs": [],
   "source": [
    "listofitems = ['thing', 'thingamabob', 'thingything']\n",
    "\"Sudo, bring me a {}, a {} and a {}.\".format(listofitems[0], listofitems[1], listofitems[2])"
   ]
  },
  {
   "cell_type": "markdown",
   "metadata": {},
   "source": [
    "Formatting numbers"
   ]
  },
  {
   "cell_type": "code",
   "execution_count": null,
   "metadata": {
    "collapsed": false
   },
   "outputs": [],
   "source": [
    "from math import pi\n",
    "print(\"A long number: {0}\\nmore readable: {0:.3f}\".format(pi))"
   ]
  },
  {
   "cell_type": "markdown",
   "metadata": {},
   "source": [
    "### **EXTRA:** Extra string stuff (skip if no time or bored out of mind by strings)"
   ]
  },
  {
   "cell_type": "markdown",
   "metadata": {},
   "source": [
    "#### raw strings"
   ]
  },
  {
   "cell_type": "markdown",
   "metadata": {},
   "source": [
    "raw strings, useful for windows paths or regular expressions (escape sequences are ignored)"
   ]
  },
  {
   "cell_type": "code",
   "execution_count": null,
   "metadata": {
    "collapsed": false
   },
   "outputs": [],
   "source": [
    "print(\"I can say the \\ and the \\\\ and \\t and python will show it! (Not)\")"
   ]
  },
  {
   "cell_type": "markdown",
   "metadata": {},
   "source": [
    "                    vs."
   ]
  },
  {
   "cell_type": "code",
   "execution_count": null,
   "metadata": {
    "collapsed": false
   },
   "outputs": [],
   "source": [
    "print(r\"I can say the \\ and the \\\\ and \\t and python will show it!\")"
   ]
  },
  {
   "cell_type": "markdown",
   "metadata": {},
   "source": [
    "#### String joining"
   ]
  },
  {
   "cell_type": "markdown",
   "metadata": {},
   "source": [
    "Don't concatenate strings by hand or add one string at a time using a loop, use join instead."
   ]
  },
  {
   "cell_type": "code",
   "execution_count": null,
   "metadata": {
    "collapsed": false
   },
   "outputs": [],
   "source": [
    "colours = ['red', 'green', 'blue', 'pink']"
   ]
  },
  {
   "cell_type": "code",
   "execution_count": null,
   "metadata": {
    "collapsed": false
   },
   "outputs": [],
   "source": [
    "print(''.join(colours))\n",
    "print(', '.join(colours))\n",
    "print('-'.join(colours))"
   ]
  },
  {
   "cell_type": "code",
   "execution_count": null,
   "metadata": {
    "collapsed": false
   },
   "outputs": [],
   "source": [
    "', '.join(colours[:-1]) + ' or ' + colours[-1]"
   ]
  },
  {
   "cell_type": "markdown",
   "metadata": {},
   "source": [
    "#### repeat the same string several times"
   ]
  },
  {
   "cell_type": "code",
   "execution_count": null,
   "metadata": {
    "collapsed": false
   },
   "outputs": [],
   "source": [
    "rep_string = 'Na'\n",
    "print(rep_string*8 + \" Batman!\")"
   ]
  },
  {
   "cell_type": "code",
   "execution_count": null,
   "metadata": {
    "collapsed": false
   },
   "outputs": [],
   "source": [
    "#what does this do?\n",
    "rep_string_upper = rep_string.upper()"
   ]
  },
  {
   "cell_type": "code",
   "execution_count": null,
   "metadata": {
    "collapsed": false
   },
   "outputs": [],
   "source": [
    "print(rep_string * 8 + rep_string_upper * 8 + \" Batman!\".upper())"
   ]
  },
  {
   "cell_type": "code",
   "execution_count": null,
   "metadata": {
    "collapsed": true
   },
   "outputs": [],
   "source": []
  }
 ],
 "metadata": {
  "kernelspec": {
   "display_name": "Python 3",
   "language": "python",
   "name": "python3"
  },
  "language_info": {
   "codemirror_mode": {
    "name": "ipython",
    "version": 3
   },
   "file_extension": ".py",
   "mimetype": "text/x-python",
   "name": "python",
   "nbconvert_exporter": "python",
   "pygments_lexer": "ipython3",
   "version": "3.4.3"
  }
 },
 "nbformat": 4,
 "nbformat_minor": 0
}
